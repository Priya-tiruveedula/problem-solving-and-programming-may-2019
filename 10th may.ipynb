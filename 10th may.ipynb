{
 "cells": [
  {
   "cell_type": "markdown",
   "metadata": {},
   "source": [
    "# Problem Solving and Programming\n",
    "\n",
    "## Name:T.N.NPriya\n",
    "\n",
    "\n"
   ]
  },
  {
   "cell_type": "markdown",
   "metadata": {},
   "source": [
    "# Solve the following problems using Recursion and Iteration\n",
    "\n",
    "* Factorial\n",
    "* GCD\n",
    "* Towers of Hanoi\n",
    "* Generating the nth Fibonacci number"
   ]
  },
  {
   "cell_type": "code",
   "execution_count": 1,
   "metadata": {},
   "outputs": [],
   "source": [
    "def factoria(n):\n",
    "    if(n==1):\n",
    "        return n\n",
    "    else:\n",
    "        return n*factoria(n-1)\n",
    "\n",
    "factoria(5)"
   ]
  },
  {
   "cell_type": "markdown",
   "metadata": {},
   "source": [
    "# Problem 2:\n",
    "\n",
    "## Problem Statement: GCD using recursion\n",
    "\n",
    "### Test cases\n",
    "*gcd(4,2) ->2\n",
    "*gcd(6,2) ->2"
   ]
  },
  {
   "cell_type": "code",
   "execution_count": 2,
   "metadata": {},
   "outputs": [
    {
     "name": "stdout",
     "output_type": "stream",
     "text": [
      "2\n",
      "2\n"
     ]
    }
   ],
   "source": [
    "def gcd(a,b):\n",
    "    if(b==0):\n",
    "        return a\n",
    "    else:\n",
    "        return gcd(b,a%b)\n",
    "\n",
    "print(gcd(6,2))\n",
    "print(gcd(4,2))\n",
    "    "
   ]
  },
  {
   "cell_type": "markdown",
   "metadata": {},
   "source": [
    "# Problem 3:\n",
    "\n",
    "## Problem Statement: GCD using iteration\n",
    "\n",
    "### Test cases\n",
    "* computeGCD(4,2)->2\n",
    "* computeGCD(6,2)->2"
   ]
  },
  {
   "cell_type": "code",
   "execution_count": 3,
   "metadata": {},
   "outputs": [
    {
     "name": "stdout",
     "output_type": "stream",
     "text": [
      "2\n",
      "2\n"
     ]
    }
   ],
   "source": [
    "def computeGCD(x, y): \n",
    "  \n",
    "    if x > y: \n",
    "        small = y \n",
    "    else: \n",
    "        small = x \n",
    "    for i in range(1, small+1): \n",
    "        if((x % i == 0) and (y % i == 0)): \n",
    "            gcd = i \n",
    "              \n",
    "    return gcd \n",
    "  \n",
    "print (computeGCD(4,2)) \n",
    "print (computeGCD(6,2))"
   ]
  },
  {
   "cell_type": "markdown",
   "metadata": {},
   "source": [
    "# Problem 4:\n",
    "\n",
    "## Problem Statement: Towers Of Hanoi\n",
    "\n",
    "### Test cases:\n",
    "* TowersofHanoi(3,\"S\",\"T\",\"D\") ->\n",
    "move 1 disk from S to D\n",
    "move 2 disk from S to T\n",
    "move 1 disk from D to T\n",
    "move 3 disk from S to D\n",
    "move 1 disk from T to S\n",
    "move 2 disk from T to D\n",
    "move 1 disk from S to D"
   ]
  },
  {
   "cell_type": "code",
   "execution_count": 4,
   "metadata": {},
   "outputs": [
    {
     "name": "stdout",
     "output_type": "stream",
     "text": [
      "move 1 disk from S to D\n",
      "move 2 disk from S to T\n",
      "move 1 disk from D to T\n",
      "move 3 disk from S to D\n",
      "move 1 disk from T to S\n",
      "move 2 disk from T to D\n",
      "move 1 disk from S to D\n"
     ]
    }
   ],
   "source": [
    "def TowersofHanoi(n,source,temp,dest):\n",
    "    if n==1:\n",
    "        print(\"move\",n,\"disk from\",source,\"to\",dest)\n",
    "        return\n",
    "    else:\n",
    "        TowersofHanoi(n-1,source,dest,temp)\n",
    "        print(\"move\",n,\"disk from\",source,\"to\",dest)\n",
    "        TowersofHanoi(n-1,temp,source,dest)\n",
    "        \n",
    "TowersofHanoi(3,\"S\",\"T\",\"D\")\n",
    "        "
   ]
  },
  {
   "cell_type": "markdown",
   "metadata": {},
   "source": [
    "# Problem 4:\n",
    "\n",
    "## Problem Statement: recursive nth fibonacci number.\n",
    "\n",
    "### Test cases:\n",
    "\n",
    "* finb(3)->1\n",
    "* finb(6)->5\n",
    "* finb(8)->13\n",
    "   "
   ]
  },
  {
   "cell_type": "code",
   "execution_count": 5,
   "metadata": {},
   "outputs": [
    {
     "name": "stdout",
     "output_type": "stream",
     "text": [
      "1\n",
      "5\n",
      "13\n"
     ]
    }
   ],
   "source": [
    "def finb(n):\n",
    "    if n==1:\n",
    "        return 0\n",
    "    elif(n==2):\n",
    "        return 1\n",
    "    else:\n",
    "        return(finb(n-1)+finb(n-2))\n",
    "        \n",
    "print(finb(3))\n",
    "print(finb(6))\n",
    "print(finb(8))    "
   ]
  },
  {
   "cell_type": "markdown",
   "metadata": {},
   "source": [
    "# Problem 5:\n",
    "\n",
    "## Problem Statement:Define a function to identity the number of times a substring is repeating in a given string\n",
    "\n",
    "### Test cases\n",
    "\n",
    "* substringCount('substr', 'str') -> 1\n",
    "* substringCount('1234567891122334455', '3') -> 3\n",
    "* substringCount('abccddccc', 'cc') -> 3"
   ]
  },
  {
   "cell_type": "code",
   "execution_count": 1,
   "metadata": {},
   "outputs": [
    {
     "name": "stdout",
     "output_type": "stream",
     "text": [
      "3\n",
      "3\n"
     ]
    }
   ],
   "source": [
    "# Method 1\n",
    "def substringCount(string,sub):\n",
    "    j=0\n",
    "    count=0\n",
    "    for i in range(0,len(string)):\n",
    "        \n",
    "        if string[i]==sub[j]:\n",
    "            start=i\n",
    "            last=i+len(sub)\n",
    "            ob=string[slice(start,last)]\n",
    "            if ob==sub:\n",
    "                count=count+1\n",
    "    return count\n",
    "                   \n",
    "print(substringCount('abccddccc', 'cc'))\n",
    "print(substringCount('1234567891122334455', '3'))\n",
    "\n",
    "    \n",
    "    "
   ]
  },
  {
   "cell_type": "code",
   "execution_count": 2,
   "metadata": {},
   "outputs": [
    {
     "name": "stdout",
     "output_type": "stream",
     "text": [
      "3\n"
     ]
    }
   ],
   "source": [
    "# Method 2\n",
    "\n",
    "def substringCount(string,substring):\n",
    "    string1=str(string)\n",
    "    print(string1.count(substring))\n",
    "     \n",
    "substringCount('1234567891122334455', '1')\n",
    "\n",
    "                \n",
    "                   \n",
    "                   "
   ]
  },
  {
   "cell_type": "markdown",
   "metadata": {},
   "source": [
    "# Problem 6:\n",
    "\n",
    "## Problem Statement:Define a function to merge the characters of two strings alternatively. The remaining characters of the longer string are printed in the same order at the end.\n",
    "\n",
    "### Test cases:\n",
    "* mergeString('abcd', 'abcd') -> 'aabbccdd'\n",
    "* mergeString('abc', '123456') -> 'a1b2c3456'\n",
    "* mergeString('0', '123456') -> '0123456'\n"
   ]
  },
  {
   "cell_type": "code",
   "execution_count": 7,
   "metadata": {},
   "outputs": [
    {
     "name": "stdout",
     "output_type": "stream",
     "text": [
      "aabbccdde,\n",
      "a1b2c3456,\n",
      "0123456"
     ]
    }
   ],
   "source": [
    "def mergeString(one,two):\n",
    "    if (len(one)>len(two)):\n",
    "        size=two\n",
    "        highest=one\n",
    "    else:\n",
    "        size=one\n",
    "        highest=two\n",
    "        \n",
    "    if (len(one)==len(two)):\n",
    "        for i in range(0,len(size)):\n",
    "            print(one[i]+two[i],end =\"\")\n",
    "    else:\n",
    "        \n",
    "        \n",
    "        diff=len(one)-len(two)\n",
    "         \n",
    "        \n",
    "        for i in range(0,len(size)):\n",
    "            \n",
    "            print(one[i]+two[i],end =\"\")\n",
    "        \n",
    "        for j in range(0,abs(diff)):\n",
    "            \n",
    "            print(highest[len(size)+j],end=\"\")\n",
    "mergeString('abcd','abcde')\n",
    "print(\",\")\n",
    "mergeString('abc', '123456')\n",
    "print(\",\")\n",
    "mergeString('0', '123456')"
   ]
  },
  {
   "cell_type": "markdown",
   "metadata": {},
   "source": [
    "# Problem 7:Define a function to convert a binary number to the corresponding decimal number\n",
    "\n",
    "## Test cases:\n",
    "* binaryToDecimal(1100) -> 12\n",
    "* binaryToDecimal(1010) -> 10\n",
    "* binaryToDecimal(111000) -> 56"
   ]
  },
  {
   "cell_type": "code",
   "execution_count": 8,
   "metadata": {},
   "outputs": [
    {
     "name": "stdout",
     "output_type": "stream",
     "text": [
      "12\n",
      "56\n"
     ]
    }
   ],
   "source": [
    "def binaryToDecimal(x):\n",
    "    y=str(x)\n",
    "    return int(y,2)\n",
    "print(binaryToDecimal(1100))\n",
    "print(binaryToDecimal(111000))"
   ]
  },
  {
   "cell_type": "markdown",
   "metadata": {},
   "source": [
    "# Problem 8:Define a function to convert a decimal number to the corresponding binary number\n",
    "\n",
    "## Test cases:\n",
    "* decimalToBinary(15) -> 1111\n",
    "* decimalToBinary(1) -> 1"
   ]
  },
  {
   "cell_type": "code",
   "execution_count": 9,
   "metadata": {},
   "outputs": [
    {
     "name": "stdout",
     "output_type": "stream",
     "text": [
      "10000\n"
     ]
    }
   ],
   "source": [
    "def decimalToBinary(x):\n",
    "    res=\"\"\n",
    "    #s=\" \"\n",
    "    #print((x%2))\n",
    "    while x>=1:\n",
    "        f=x%2\n",
    "        x=int(x/2) #x//2\n",
    "        \n",
    "        res=res+str(f)\n",
    "        \n",
    "    res1=''.join(reversed(res))\n",
    "    print(res1)        \n",
    "         \n",
    "decimalToBinary(16)  "
   ]
  },
  {
   "cell_type": "markdown",
   "metadata": {},
   "source": [
    "# Problem 9:Define a function to check if a given year is a leap year. Returns a boolean value.\n",
    "\n",
    "## Test cases:\n",
    "\n",
    "* 2000 -> True\n",
    "* 1900 -> False\n",
    "* 2012 -> True\n",
    "* 2020 -> True\n",
    "* 0200 -> False"
   ]
  },
  {
   "cell_type": "code",
   "execution_count": 10,
   "metadata": {},
   "outputs": [
    {
     "data": {
      "text/plain": [
       "False"
      ]
     },
     "execution_count": 10,
     "metadata": {},
     "output_type": "execute_result"
    }
   ],
   "source": [
    "def LeapYear(year):\n",
    "    if year%100==0:\n",
    "        return year%400==0\n",
    "    if((year%4)==0):\n",
    "        return True\n",
    "    else:\n",
    "        return False\n",
    "    \n",
    "LeapYear(200)\n",
    "   "
   ]
  },
  {
   "cell_type": "markdown",
   "metadata": {},
   "source": [
    "# Problem 10: Define a function to find the average of all the outer elements of an N x M matrix.\n",
    "\n",
    "## Test cases:\n",
    "* averageOuterMatrix([[1, 2, 3], [4, 5, 6], [7, 8, 9], [10, 11, 12]] -> 4.5"
   ]
  },
  {
   "cell_type": "code",
   "execution_count": 11,
   "metadata": {},
   "outputs": [
    {
     "name": "stdout",
     "output_type": "stream",
     "text": [
      "4\n",
      "3.5714285714285716\n"
     ]
    }
   ],
   "source": [
    "# simple indexing\n",
    "from numpy import array\n",
    "\n",
    "\n",
    "def averageOuterMatrix(a):\n",
    "    first=sum(a[0])\n",
    "    countf=len((a[0]))\n",
    "    #print(countf)\n",
    "    last=sum(a[-1])\n",
    "    #print(len(a))\n",
    "    res=0\n",
    "    \n",
    "    for i in range(1,len(a)-2):\n",
    "     \n",
    "        res=res+((a[i][1]+a[i][-1])-1)\n",
    "        print(res)\n",
    "    \n",
    "    #print(res+first+last)\n",
    "    sum1=res+first+last\n",
    "    sum2=first+last\n",
    "    sum3=res\n",
    "    #print(sum3)\n",
    "    remaining=len(a)-2\n",
    "    rem=2*remaining\n",
    "    div=rem+2*countf\n",
    "    avg=sum1/div\n",
    "    print(avg)\n",
    "    \n",
    "\n",
    "averageOuterMatrix([[1, 2, 3,4,1], [1,4, 5, 6,1], [1,7, 8, 9,1], [1,10, 11, 12,1]])\n",
    "  "
   ]
  },
  {
   "cell_type": "markdown",
   "metadata": {},
   "source": [
    "# Problem 11: Define a function to print the sequence of spiral pattern elements for a given N x N matrix\n",
    "\n",
    "* spiralPattern([[1,2,3], [4,5,6], [7,8,9]]) -> 1 2 3 6 9 8 7 4 5\n"
   ]
  },
  {
   "cell_type": "code",
   "execution_count": 12,
   "metadata": {},
   "outputs": [
    {
     "name": "stdout",
     "output_type": "stream",
     "text": [
      "[1, 2, 3, 6, 9, 8, 7, 4, 5]\n",
      "[1, 2, 3, 4, 5, 6, 6, 6, 6, 6, 6, 5, 4, 3, 2, 1, 1, 1, 1, 1, 2, 3, 4, 5, 5, 5, 5, 4, 3, 2, 2, 2, 3, 4, 4, 3]\n"
     ]
    }
   ],
   "source": [
    "def layerTopRight(matrix):\n",
    "    \n",
    "  \n",
    "  \n",
    "  top = matrix.pop(0)\n",
    "  \n",
    "  \n",
    "  right = []\n",
    "  \n",
    "  \n",
    "  for i in range(0, len(matrix)):\n",
    "    e = matrix[i].pop()\n",
    "    right.append(e)\n",
    "    \n",
    " \n",
    "  return top + right\n",
    "\n",
    "def layerBottomLeft(matrix):\n",
    "  \n",
    " \n",
    "  bottom = matrix.pop()[::-1]\n",
    "  \n",
    "  \n",
    "  left = []\n",
    "  \n",
    " \n",
    "  for i in range(0, len(matrix)):\n",
    "    e = matrix[i].pop(0)\n",
    "    left.append(e)\n",
    "    \n",
    " \n",
    "  return bottom + left[::-1]\n",
    "\n",
    "\n",
    "def spiral(matrix):\n",
    "  \n",
    " \n",
    "  spir = []\n",
    "  \n",
    "  while len(matrix) > 0:\n",
    "    \n",
    "   \n",
    "    if len(matrix) == 1:\n",
    "      spir += matrix[0]\n",
    "      break\n",
    "      \n",
    "    \n",
    "    tr = layerTopRight(matrix)\n",
    "    spir += tr\n",
    "    \n",
    "    \n",
    "    bl = layerBottomLeft(matrix)\n",
    "    spir += bl\n",
    "    \n",
    "  return spir\n",
    "\n",
    "\n",
    "\n",
    "\n",
    "\n",
    "print (spiral([[1, 2, 3],\n",
    "     [4, 5, 6],\n",
    "     [7, 8, 9]]))   \n",
    "print(spiral([[1,2,3,4,5,6], [1,2,3,4,5,6],[1,2,3,4,5,6],[1,2,3,4,5,6],[1,2,3,4,5,6],[1,2,3,4,5,6]]))\n"
   ]
  },
  {
   "cell_type": "markdown",
   "metadata": {},
   "source": [
    "# Problem 12: Design a Python script to determine the difference in date for given two dates in YYYY:MM:DD format(0 <= YYYY <= 9999, 1 <= MM <= 12, 1 <= DD <= 31) following the leap year rules. Return the total number of days existing between the two dates.\n",
    "\n",
    "## Test cases:\n",
    "\n",
    "* dateDifference('2019:05:10', '2019:05:01') -> 9\n",
    "* dateDifference('0003:03:03', '0003:06:06') -> 95"
   ]
  },
  {
   "cell_type": "code",
   "execution_count": 14,
   "metadata": {},
   "outputs": [
    {
     "name": "stdout",
     "output_type": "stream",
     "text": [
      "95\n",
      "9\n"
     ]
    }
   ],
   "source": [
    "from datetime import date\n",
    "def dateDifference(l_date,f_date):\n",
    "    ldate=list(l_date.split(\":\"))\n",
    "    fdate=list(f_date.split(\":\"))\n",
    "    year1=int(ldate[0])\n",
    "    year2=int(fdate[0])\n",
    "    month1=int(ldate[1])\n",
    "    month2=int(fdate[1])\n",
    "    day1=int(ldate[2])\n",
    "    day2=int(fdate[2])\n",
    "    lastdate=date(year2,month2,day2)\n",
    "    firstdate=date(year1,month1,day1)\n",
    "    \n",
    "    delta = lastdate - firstdate\n",
    "    print(abs(delta.days))\n",
    "    \n",
    "dateDifference('0003:03:03', '0003:06:06')\n",
    "dateDifference('2019:05:10', '2019:05:01')"
   ]
  }
 ],
 "metadata": {
  "kernelspec": {
   "display_name": "Python 3",
   "language": "python",
   "name": "python3"
  },
  "language_info": {
   "codemirror_mode": {
    "name": "ipython",
    "version": 3
   },
   "file_extension": ".py",
   "mimetype": "text/x-python",
   "name": "python",
   "nbconvert_exporter": "python",
   "pygments_lexer": "ipython3",
   "version": "3.7.3"
  }
 },
 "nbformat": 4,
 "nbformat_minor": 2
}
