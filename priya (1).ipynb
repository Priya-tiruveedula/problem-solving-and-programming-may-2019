{
 "cells": [
  {
   "cell_type": "markdown",
   "metadata": {},
   "source": [
    "# Problem Solving and Programming\n",
    "\n",
    "## Name:T.N.NPriya\n",
    "\n",
    "### Date:09-05-2019\n",
    "\n",
    "#### Day Objectives\n",
    "\n",
    "* objective 1\n",
    "* objective 2"
   ]
  },
  {
   "cell_type": "markdown",
   "metadata": {},
   "source": [
    "# Problem 1:\n",
    "# Problem Statement: Evaluate the polynomial\n",
    "## Constraints: Given number will be in the range{1,1000}\n",
    "### Test cases\n",
    "* polynomial(2)->12\n",
    "* polynomial(16)->4646\n",
    "* polynomial(20)->8850\n",
    "* polynomial(999)->999001988"
   ]
  },
  {
   "cell_type": "code",
   "execution_count": 131,
   "metadata": {},
   "outputs": [
    {
     "name": "stdout",
     "output_type": "stream",
     "text": [
      "999001988\n",
      "4646\n",
      "8850\n",
      "12\n"
     ]
    }
   ],
   "source": [
    "def polynomial(x):\n",
    "    x=(x**3)+(2*(x**2))+(3*x)-10\n",
    "    print(x)\n",
    "\n",
    "\n",
    "polynomial(999)\n",
    "polynomial(16)\n",
    "polynomial(20)\n",
    "polynomial(2)\n"
   ]
  },
  {
   "cell_type": "markdown",
   "metadata": {},
   "source": [
    "# Problem 2:\n",
    "## Problem Statement: Determining whether a number is Even or Odd\n",
    "### Constraints: Given number will be in the range{1,1000}\n",
    "### Test cases\n",
    "* EvenorOdd(2)->Even\n",
    "* EvenorOdd(16)->Even\n",
    "* EvenorOdd(21)->Odd\n",
    "* EvenorOdd(989)->Odd"
   ]
  },
  {
   "cell_type": "code",
   "execution_count": 132,
   "metadata": {},
   "outputs": [
    {
     "name": "stdout",
     "output_type": "stream",
     "text": [
      "Odd\n",
      "Even\n",
      "Even\n",
      "Odd\n",
      "Odd\n"
     ]
    }
   ],
   "source": [
    "def EvenorOdd(x):\n",
    "    if x%2==0:\n",
    "        print(\"Even\")\n",
    "    else:\n",
    "        print(\"Odd\")\n",
    "    \n",
    "EvenorOdd(989)\n",
    "EvenorOdd(2)\n",
    "EvenorOdd(16)\n",
    "EvenorOdd(21)\n",
    "EvenorOdd(989)\n"
   ]
  },
  {
   "cell_type": "markdown",
   "metadata": {},
   "source": [
    "# Problem 3:\n",
    "## Problem Statement: Define a function for a given number check it is divisible by 2 and 3 but not 4\n",
    "### Constraints: Given number will be in the range{1,1000000000}\n",
    "#### Test cases\n",
    "* checkdivisibility(6)->True\n",
    "* checkdivisibility(16)->False\n",
    "* checkdivisibility(20)->False"
   ]
  },
  {
   "cell_type": "code",
   "execution_count": 136,
   "metadata": {},
   "outputs": [
    {
     "name": "stdout",
     "output_type": "stream",
     "text": [
      "False\n",
      "True\n",
      "False\n"
     ]
    }
   ],
   "source": [
    "def checkdivisibility(n):\n",
    "    if n%2==0 and n%3==0 and n%4!=0:\n",
    "        print(\"True\")\n",
    "    else:\n",
    "        print(\"False\")\n",
    "\n",
    "checkdivisibility(20)\n",
    "checkdivisibility(6)\n",
    "checkdivisibility(16)"
   ]
  },
  {
   "cell_type": "markdown",
   "metadata": {},
   "source": [
    "Given 2 ints, a and b, return True if one if them is 10 or if their sum is 10.\n",
    "makes10(9, 10) → True\n",
    "makes10(9, 9) → False\n",
    "makes10(1, 9) → True"
   ]
  },
  {
   "cell_type": "code",
   "execution_count": null,
   "metadata": {},
   "outputs": [],
   "source": [
    "def makes10(x, y):\n",
    "    if(x==10 or y==10 or x+y==10):\n",
    "        return True\n",
    "    else:\n",
    "        return False\n",
    "    \n",
    "makes10(8, 2)"
   ]
  },
  {
   "cell_type": "markdown",
   "metadata": {},
   "source": [
    "Problem 2:\n",
    "Problem Statement: Given 2 int values, return True if one is negative and one is positive. Except if the parameter \"negative\" is True, then return True only if both are negative.\n",
    "Test cases\n",
    "pos_neg(1, -1, False) → True\n",
    "pos_neg(-1, 1, False) → True\n",
    "pos_neg(-4, -5, True) → True\n",
    "pos_neg(-4, -5, False) → False"
   ]
  },
  {
   "cell_type": "code",
   "execution_count": null,
   "metadata": {},
   "outputs": [],
   "source": [
    "def pos_neg(x,y,negative):\n",
    "    if((x<0 and y>=0) or (x>=0 and y<0)):\n",
    "        \n",
    "        return True\n",
    "    \n",
    "    if(x<0 and y<0):\n",
    "        if(negative==True):\n",
    "          \n",
    "            return True\n",
    "        else:\n",
    "            return False\n",
    "        \n",
    "  \n",
    "pos_neg(-4,-5,False)"
   ]
  },
  {
   "cell_type": "markdown",
   "metadata": {},
   "source": [
    "Problem 11:\n",
    "Problem Statement:Given an int n, return True if it is within 10 of 100 or 200. Note: abs(num) computes the absolute value of a number.\n",
    "Test cases\n",
    "near_hundred(93) → True\n",
    "near_hundred(90) → True\n",
    "near_hundred(89) → False"
   ]
  },
  {
   "cell_type": "code",
   "execution_count": null,
   "metadata": {},
   "outputs": [],
   "source": [
    "def near_hundred(x):\n",
    "    if(((100-abs(x))<=10) or ((200-abs(x))<=10)):\n",
    "         return True\n",
    "    else:\n",
    "            return False\n",
    "   \n",
    "\n",
    "    \n",
    "    \n",
    "near_hundred(89)"
   ]
  },
  {
   "cell_type": "markdown",
   "metadata": {},
   "source": [
    "Problem 12:\n",
    "Problem Statement:Create a Random Number Generator as a Procedure which takes the Range(lb, ub) and returns a Random number in the given range\n",
    "Test cases\n",
    "random(1,10) → 2\n",
    "random(1,10) → 4\n",
    "random(1,10) → 6"
   ]
  },
  {
   "cell_type": "code",
   "execution_count": null,
   "metadata": {},
   "outputs": [],
   "source": [
    "import random\n",
    "def randomrange(x ,y):\n",
    "    print(random.randrange(x,y))\n",
    "    \n",
    "\n",
    "    \n",
    "    \n",
    "randomrange(1,10)"
   ]
  },
  {
   "cell_type": "markdown",
   "metadata": {},
   "source": [
    "Problem 12:\n",
    "Problem Statement:Procedure to print N natural numbers.\n",
    "Test cases\n",
    "naturalnumber(5) → 1,2,3,4,5\n",
    "naturalnumber(6) → 1,2,3,4,5,6\n",
    "naturalnumber(7) → 1,2,3,4,5,6,7"
   ]
  },
  {
   "cell_type": "code",
   "execution_count": null,
   "metadata": {},
   "outputs": [],
   "source": [
    "def naturalnumber(x):\n",
    "    for i in range(1,x+1):\n",
    "        print(i)\n",
    " \n",
    "naturalnumber(7)"
   ]
  },
  {
   "cell_type": "markdown",
   "metadata": {},
   "source": [
    "Problem 14:\n",
    "Problem Statement:Procedure to calculate the factorial of a given number.\n",
    "Test cases\n",
    "factorial(5) → 120\n",
    "factorial(6) → 720\n",
    "factorial(7) → 5040"
   ]
  },
  {
   "cell_type": "code",
   "execution_count": null,
   "metadata": {},
   "outputs": [],
   "source": [
    "import math\n",
    "def factorialnumber(x):\n",
    "    print(math.factorial(x))\n",
    "    \n",
    "    \n",
    " \n",
    "factorialnumber(7)"
   ]
  },
  {
   "cell_type": "markdown",
   "metadata": {},
   "source": [
    "# Problem 15:\n",
    "\n",
    "## Problem Statement:Designing procedures for Basic Arithmetic operations\n",
    "\n",
    "#### Test cases\n",
    "\n",
    "* arithmetic(\"+\") → 5\n",
    "* arithmetic(\"*\") → 6\n",
    "* arithmetic(\"%\") → 2"
   ]
  },
  {
   "cell_type": "code",
   "execution_count": 129,
   "metadata": {},
   "outputs": [
    {
     "data": {
      "text/plain": [
       "5"
      ]
     },
     "execution_count": 129,
     "metadata": {},
     "output_type": "execute_result"
    }
   ],
   "source": [
    "a=2\n",
    "b=3\n",
    "def add():\n",
    "    return a+b\n",
    "def sub():\n",
    "    return a-b\n",
    "def mul():\n",
    "    return a*b\n",
    "def div():\n",
    "    return a/b\n",
    "def modulus():\n",
    "    return a%b\n",
    "switcher={\n",
    "    \"+\":add,\n",
    "    \"-\":sub,\n",
    "    \"*\":mul,\n",
    "    \"/\":div,\n",
    "    \"%\":modulus\n",
    "}\n",
    "def arithmetic(argument):\n",
    "    func = switcher.get(argument, \"nothing\")\n",
    "    return func()\n",
    "\n",
    "arithmetic(\"+\")"
   ]
  },
  {
   "cell_type": "markdown",
   "metadata": {},
   "source": [
    "# Problem Solving and Programming\n",
    "\n",
    "## Name:T.N.NPriya\n",
    "\n",
    "### Day 6\n",
    "\n",
    "### Date:09-05-2019\n",
    "\n",
    "#### Day Objectives\n",
    "* objective 1\n",
    "* objective 2"
   ]
  },
  {
   "cell_type": "markdown",
   "metadata": {},
   "source": [
    "# Problem :\n",
    "\n",
    "## Problem Statement: Design a procedure calculate the maximum, minimum and average of N numbers.\n",
    "\n",
    "### constraint:\n",
    "\n",
    "#### Test cases\n",
    "* data( a[1,2,3,4,5] ) -> Max = 5, Min = 1, Avg = 3\n",
    "* data( a[5,6,7,8,9] ) -> Max = 9, Min = 5, Avg = 7\n",
    "* data( a[9,6,5,4,3,2] ) -> Max= 9 , Min= 2 , Avg= 4.833333333333333"
   ]
  },
  {
   "cell_type": "code",
   "execution_count": 158,
   "metadata": {},
   "outputs": [
    {
     "name": "stdout",
     "output_type": "stream",
     "text": [
      "Max= 9 , Min= 2 , Avg= 4.833333333333333\n"
     ]
    }
   ],
   "source": [
    "import statistics\n",
    "def data(a):\n",
    "    print(\"Max=\",max(a),\",\",\"Min=\",min(a),\",\",\"Avg=\",statistics.mean(a) )\n",
    "    \n",
    "    \n",
    "data([9,6,5,4,3,2])\n",
    "    "
   ]
  },
  {
   "cell_type": "markdown",
   "metadata": {},
   "source": [
    "# Problem :\n",
    "\n",
    "## Problem Statement: Design a procedure to perform Linear search on list of N unsorted unique numbers. It take an array and the key element to be searched and returns the index of the element of key element if found. Else returns -1.\n",
    "\n",
    "### constraint:\n",
    "\n",
    "#### Test cases\n",
    "* LinearSearch( a[5,4,3,2,1], 4) -> 2\n",
    "* LinearSearch( a[90, 123, 324, 21, 56], 22) -> -1"
   ]
  },
  {
   "cell_type": "code",
   "execution_count": 171,
   "metadata": {},
   "outputs": [
    {
     "name": "stdout",
     "output_type": "stream",
     "text": [
      "4\n",
      "1\n",
      "3\n"
     ]
    }
   ],
   "source": [
    "\n",
    "def Linearsearch(a,key):\n",
    "    count=1\n",
    "    \n",
    "    for i in range(0,len(a)):\n",
    "        if(a[i]==key):\n",
    "            print(i)\n",
    "            count=count+1\n",
    "            \n",
    "    if(count==1):\n",
    "        print(-1)\n",
    "    \n",
    "       \n",
    "        \n",
    "Linearsearch([5,4,3,2,1],1)\n",
    "Linearsearch([5,4,3,2,1],4)\n",
    "Linearsearch([5,4,2,3,6],3)\n",
    "        "
   ]
  },
  {
   "cell_type": "markdown",
   "metadata": {},
   "source": [
    "# Problem :\n",
    "\n",
    "## Problem Statement: Design a procedure to determine if a given string is a Palindrome\n",
    "\n",
    "### Test cases\n",
    "\n",
    "* Palindrome(\"racecar\") -> True\n",
    "* Palindrome(\"raptor\") -> False"
   ]
  },
  {
   "cell_type": "code",
   "execution_count": 224,
   "metadata": {},
   "outputs": [
    {
     "name": "stdout",
     "output_type": "stream",
     "text": [
      "True\n",
      "True\n",
      "False\n"
     ]
    }
   ],
   "source": [
    "def Palindrome(s):\n",
    "    if(s==s[::-1]):\n",
    "        return True\n",
    "    else:\n",
    "        return False\n",
    "    \n",
    "print(Palindrome(\"aba\"))\n",
    "print(Palindrome(\"racecar\"))\n",
    "print(Palindrome(\"raptor\"))"
   ]
  },
  {
   "cell_type": "markdown",
   "metadata": {},
   "source": [
    "# Problem :\n",
    "\n",
    "## Problem Statement: Design a procedure to calculate the squareroot of a number \"without using the math function sqrt\".\n",
    "\n",
    "### Test cases\n",
    "* Squareroot(36) -> 6\n",
    "* Squareroot(362) -> 19.026297590440446\n",
    "* Squareroot(236) -> 15.362291495737216"
   ]
  },
  {
   "cell_type": "code",
   "execution_count": 197,
   "metadata": {},
   "outputs": [
    {
     "name": "stdout",
     "output_type": "stream",
     "text": [
      "15.362291495737216\n"
     ]
    }
   ],
   "source": [
    "def sqrt(a):\n",
    "    \n",
    "    print((a**(1/2)))\n",
    "          \n",
    "          \n",
    "\n",
    "sqrt(236)\n"
   ]
  },
  {
   "cell_type": "markdown",
   "metadata": {},
   "source": [
    "# Problem :\n",
    "\n",
    "## Problem Statement:Design a procedure to determine the frequency count of numbers in a given list\n",
    "\n",
    "### Test cases\n",
    "* Frequency( a[1,3,2,1] ) -> 1 : 2, 2 : 1, 3 : 1"
   ]
  },
  {
   "cell_type": "code",
   "execution_count": 227,
   "metadata": {},
   "outputs": [
    {
     "name": "stdout",
     "output_type": "stream",
     "text": [
      "{1: 3, 2: 1, 3: 1}\n"
     ]
    }
   ],
   "source": [
    "from collections import Counter\n",
    "def Frequency(a):\n",
    "    return dict(Counter(a))\n",
    "   \n",
    "   \n",
    "   \n",
    "   \n",
    "   \n",
    "print(Frequency([1,1,1,2,3]))\n",
    "    \n",
    "\n",
    "    \n",
    "\n",
    "\n"
   ]
  },
  {
   "cell_type": "markdown",
   "metadata": {},
   "source": [
    " # Problem :\n",
    "\n",
    "## Problem Statement: Procedure to generate multiplication tables. \n",
    "\n",
    "\n",
    " ### Test cases\n",
    " * MT(3, 5, 7) -> 3 X 5 = 15  3 X 6 = 18  3 X 7 = 21\n",
    " * MT(4, 5, 8) -> 3 X 5 = 15  3 X 6 = 18  3 X 7 = 21\n",
    " * MT(5, 6, 7) -> 3 X 5 = 15  3 X 6 = 18  3 X 7 = 21\n",
    "\n",
    "                              \n",
    "\n",
    "               \n",
    "    "
   ]
  },
  {
   "cell_type": "markdown",
   "metadata": {},
   "source": [
    "# Problem Solving and Programming\n",
    "\n",
    "## Name:T.N.NPriya\n",
    "\n",
    "### Day 5\n",
    "\n",
    "### Date:09-05-2019\n",
    "\n",
    "#### Day Objectives\n",
    "* objective 1\n",
    "* objective 2"
   ]
  },
  {
   "cell_type": "code",
   "execution_count": 234,
   "metadata": {},
   "outputs": [
    {
     "name": "stdout",
     "output_type": "stream",
     "text": [
      "first table\n",
      "3 * 5 = 15\n",
      "3 * 6 = 18\n",
      "3 * 7 = 21\n",
      "second table\n",
      "4 * 5 = 20\n",
      "4 * 6 = 24\n",
      "4 * 7 = 28\n",
      "4 * 8 = 32\n",
      "third table\n",
      "5 * 6 = 30\n",
      "5 * 7 = 35\n"
     ]
    }
   ],
   "source": [
    "def MT(i,j,k):\n",
    "    for x in range(j,k+1):\n",
    "        print(i, \"*\",x,\"=\",i*x)\n",
    "        \n",
    "print(\"first table\")        \n",
    "MT(3,5,7)\n",
    "print(\"second table\")\n",
    "MT(4, 5, 8)\n",
    "print(\"third table\")\n",
    "MT(5, 6, 7)\n"
   ]
  },
  {
   "cell_type": "markdown",
   "metadata": {},
   "source": [
    " # Problem :\n",
    "\n",
    "## Problem Statement:  Procedure to print the list of factors of a given number.\n",
    "\n",
    " \n",
    "\n",
    " ### Test cases\n",
    " * FactorList(6)  ->  1 2 3 6\n",
    "\n",
    " * FactorList (9) ->   1 3 9\n",
    "\n",
    " * FactorList (19) ->  1  19\n"
   ]
  },
  {
   "cell_type": "code",
   "execution_count": 255,
   "metadata": {},
   "outputs": [
    {
     "name": "stdout",
     "output_type": "stream",
     "text": [
      "[1, 2, 3, 6]\n",
      "[1, 3, 9]\n",
      "[1, 19]\n"
     ]
    }
   ],
   "source": [
    "def FactorList(n):\n",
    "    a=[]\n",
    "    for i in range(1,n+1):\n",
    "        if (n%i==0):\n",
    "            a.append(i)\n",
    "    return a        \n",
    "        \n",
    "    \n",
    "        \n",
    "        \n",
    "print(FactorList(6))\n",
    "print(FactorList(9))\n",
    "print(FactorList(19))\n",
    "\n",
    "    "
   ]
  },
  {
   "cell_type": "markdown",
   "metadata": {},
   "source": [
    "# Problem :\n",
    "\n",
    "## Problem Statement:Procedure to check if a given number is Prime and returns a Boolean value.\n",
    "\n",
    " ### Test cases\n",
    "* IsPrime(7) -> True\n",
    "\n",
    " * IsPrime(9) ->  False"
   ]
  },
  {
   "cell_type": "code",
   "execution_count": 275,
   "metadata": {},
   "outputs": [
    {
     "name": "stdout",
     "output_type": "stream",
     "text": [
      "True\n",
      "False\n",
      "True\n",
      "False\n"
     ]
    }
   ],
   "source": [
    "def IsPrime(prime):\n",
    "    count=0\n",
    "    for i in range(2,prime):\n",
    "        if(prime%i==0):\n",
    "            count=count+1\n",
    "    if(count>0):\n",
    "        return False\n",
    "    else:\n",
    "         return True\n",
    "    \n",
    "  \n",
    "        \n",
    "print(IsPrime(5))\n",
    "print(IsPrime(6))\n",
    "print(IsPrime(7))\n",
    "print(IsPrime(8))\n",
    "\n",
    "        \n",
    "    "
   ]
  },
  {
   "cell_type": "markdown",
   "metadata": {},
   "source": [
    "# Problem :\n",
    "\n",
    "## Problem Statement:Procedure to count the number of digits in a given number.\n",
    "\n",
    "### Test cases\n",
    "* CountDigits(123456) ->  6\n",
    "\n",
    "* CountDigits (0) ->  1\n",
    "\n",
    "\n",
    " \n"
   ]
  },
  {
   "cell_type": "code",
   "execution_count": 281,
   "metadata": {},
   "outputs": [
    {
     "name": "stdout",
     "output_type": "stream",
     "text": [
      "6\n",
      "1\n",
      "3\n"
     ]
    }
   ],
   "source": [
    "def CountDigits(n):\n",
    "    return len(str(n))\n",
    "    \n",
    "\n",
    "print(CountDigits(123456))\n",
    "print(CountDigits(0))\n",
    "print(CountDigits(456))\n",
    "    "
   ]
  },
  {
   "cell_type": "markdown",
   "metadata": {},
   "source": [
    "# Problem :\n",
    "\n",
    "## Problem Statement: Procedure to check if a given number is a Perfect Number. ( Perfect number is a number for which the sum of all it's divisors is equal to the number itself)\n",
    "\n",
    "### Test cases\n",
    "\n",
    "* IsPerfect(3) -> False\n",
    "* IsPerfect (6) -> True\n",
    "\n"
   ]
  },
  {
   "cell_type": "code",
   "execution_count": 286,
   "metadata": {},
   "outputs": [
    {
     "name": "stdout",
     "output_type": "stream",
     "text": [
      "True\n",
      "False\n",
      "False\n"
     ]
    }
   ],
   "source": [
    "def IsPerfect(n):\n",
    "    a=[]\n",
    "    for i in range(1,n):\n",
    "        if(n%i==0):\n",
    "            a.append(i)\n",
    "    if(sum(a)==n):\n",
    "        return True\n",
    "    else:\n",
    "        return False\n",
    "    \n",
    "print(IsPerfect(6))\n",
    "print(IsPerfect(3))\n",
    "print(IsPerfect(25))\n",
    "        \n",
    "        "
   ]
  },
  {
   "cell_type": "markdown",
   "metadata": {},
   "source": [
    "# Problem :\n",
    "\n",
    "## Problem Statement: Procedure to generate the first N perfect numbers. \n",
    "\n",
    "\n",
    "### Test cases\n",
    "\n",
    "* GeneratePerfect(2) ->  6   28\n",
    "\n",
    "* GeneratePerfect (4) ->  6   28   496    8128"
   ]
  },
  {
   "cell_type": "code",
   "execution_count": null,
   "metadata": {},
   "outputs": [],
   "source": [
    "def GeneratePerfect(count):\n",
    "    a=[]\n",
    "    for i in range(1,100):\n",
    "        if(n%i==0):\n",
    "            a.append(i)\n",
    "    if(sum(a)==n):\n",
    "        return True\n",
    "    else:\n",
    "        return False\n",
    "    "
   ]
  }
 ],
 "metadata": {
  "kernelspec": {
   "display_name": "Python 3",
   "language": "python",
   "name": "python3"
  },
  "language_info": {
   "codemirror_mode": {
    "name": "ipython",
    "version": 3
   },
   "file_extension": ".py",
   "mimetype": "text/x-python",
   "name": "python",
   "nbconvert_exporter": "python",
   "pygments_lexer": "ipython3",
   "version": "3.7.3"
  }
 },
 "nbformat": 4,
 "nbformat_minor": 2
}
