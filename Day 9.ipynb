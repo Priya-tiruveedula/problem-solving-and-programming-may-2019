{
 "cells": [
  {
   "cell_type": "markdown",
   "metadata": {},
   "source": [
    "# Problem Solving and Programming\n",
    "\n",
    "## Name:T.N.NPriya\n",
    "\n",
    "### Date:11-05-2019\n"
   ]
  },
  {
   "cell_type": "markdown",
   "metadata": {},
   "source": [
    "# Solve the following problems using Recursion and Iteration\n",
    "\n",
    "* Factorial\n",
    "* GCD\n",
    "* Towers of Hanoi\n",
    "* Generating the nth Fibonacci number"
   ]
  },
  {
   "cell_type": "code",
   "execution_count": 1,
   "metadata": {},
   "outputs": [
    {
     "data": {
      "text/plain": [
       "120"
      ]
     },
     "execution_count": 1,
     "metadata": {},
     "output_type": "execute_result"
    }
   ],
   "source": [
    "def factoria(n):\n",
    "    if(n==1):\n",
    "        return n\n",
    "    else:\n",
    "        return n*factoria(n-1)\n",
    "\n",
    "factoria(5)"
   ]
  },
  {
   "cell_type": "markdown",
   "metadata": {},
   "source": [
    "# Problem 2:\n",
    "\n",
    "## Problem Statement: GCD using recursion\n",
    "\n",
    "### Test cases\n",
    "*gcd(4,2) ->2\n",
    "*gcd(6,2) ->2"
   ]
  },
  {
   "cell_type": "code",
   "execution_count": 2,
   "metadata": {},
   "outputs": [
    {
     "name": "stdout",
     "output_type": "stream",
     "text": [
      "2\n",
      "2\n"
     ]
    }
   ],
   "source": [
    "def gcd(a,b):\n",
    "    if(b==0):\n",
    "        return a\n",
    "    else:\n",
    "        return gcd(b,a%b)\n",
    "\n",
    "print(gcd(6,2))\n",
    "print(gcd(4,2))\n",
    "    "
   ]
  },
  {
   "cell_type": "markdown",
   "metadata": {},
   "source": [
    "# Problem 3:\n",
    "\n",
    "## Problem Statement: GCD using iteration\n",
    "\n",
    "### Test cases\n",
    "* computeGCD(4,2)->2\n",
    "* computeGCD(6,2)->2"
   ]
  },
  {
   "cell_type": "code",
   "execution_count": 3,
   "metadata": {},
   "outputs": [
    {
     "name": "stdout",
     "output_type": "stream",
     "text": [
      "2\n",
      "2\n"
     ]
    }
   ],
   "source": [
    "def computeGCD(x, y): \n",
    "  \n",
    "    if x > y: \n",
    "        small = y \n",
    "    else: \n",
    "        small = x \n",
    "    for i in range(1, small+1): \n",
    "        if((x % i == 0) and (y % i == 0)): \n",
    "            gcd = i \n",
    "              \n",
    "    return gcd \n",
    "  \n",
    "print (computeGCD(4,2)) \n",
    "print (computeGCD(6,2))"
   ]
  },
  {
   "cell_type": "markdown",
   "metadata": {},
   "source": [
    "# Problem 4:\n",
    "\n",
    "## Problem Statement: Towers Of Hanoi\n",
    "\n",
    "### Test cases:\n",
    "* TowersofHanoi(3,\"S\",\"T\",\"D\") ->\n",
    "move 1 disk from S to D\n",
    "move 2 disk from S to T\n",
    "move 1 disk from D to T\n",
    "move 3 disk from S to D\n",
    "move 1 disk from T to S\n",
    "move 2 disk from T to D\n",
    "move 1 disk from S to D"
   ]
  },
  {
   "cell_type": "code",
   "execution_count": 4,
   "metadata": {},
   "outputs": [
    {
     "name": "stdout",
     "output_type": "stream",
     "text": [
      "move 1 disk from S to D\n",
      "move 2 disk from S to T\n",
      "move 1 disk from D to T\n",
      "move 3 disk from S to D\n",
      "move 1 disk from T to S\n",
      "move 2 disk from T to D\n",
      "move 1 disk from S to D\n"
     ]
    }
   ],
   "source": [
    "def TowersofHanoi(n,source,temp,dest):\n",
    "    if n==1:\n",
    "        print(\"move\",n,\"disk from\",source,\"to\",dest)\n",
    "        return\n",
    "    else:\n",
    "        TowersofHanoi(n-1,source,dest,temp)\n",
    "        print(\"move\",n,\"disk from\",source,\"to\",dest)\n",
    "        TowersofHanoi(n-1,temp,source,dest)\n",
    "        \n",
    "TowersofHanoi(3,\"S\",\"T\",\"D\")\n",
    "        "
   ]
  },
  {
   "cell_type": "markdown",
   "metadata": {},
   "source": [
    "# Problem 4:\n",
    "\n",
    "## Problem Statement: recursive nth fibonacci number.\n",
    "\n",
    "### Test cases:\n",
    "\n",
    "* finb(3)->1\n",
    "* finb(6)->5\n",
    "* finb(8)->13\n",
    "   "
   ]
  },
  {
   "cell_type": "code",
   "execution_count": 5,
   "metadata": {},
   "outputs": [
    {
     "name": "stdout",
     "output_type": "stream",
     "text": [
      "1\n",
      "5\n",
      "13\n"
     ]
    }
   ],
   "source": [
    "def finb(n):\n",
    "    if n==1:\n",
    "        return 0\n",
    "    elif(n==2):\n",
    "        return 1\n",
    "    else:\n",
    "        return(finb(n-1)+finb(n-2))\n",
    "        \n",
    "print(finb(3))\n",
    "print(finb(6))\n",
    "print(finb(8))    "
   ]
  },
  {
   "cell_type": "markdown",
   "metadata": {},
   "source": [
    "# Problem 5:\n",
    "\n",
    "## Problem Statement:Define a function to identity the number of times a substring is repeating in a given string\n",
    "\n",
    "### Test cases\n",
    "\n",
    "* substringCount('substr', 'str') -> 1\n",
    "* substringCount('1234567891122334455', '3') -> 3\n",
    "* substringCount('abccddccc', 'cc') -> 3"
   ]
  },
  {
   "cell_type": "code",
   "execution_count": 6,
   "metadata": {},
   "outputs": [
    {
     "name": "stdout",
     "output_type": "stream",
     "text": [
      "3\n",
      "0\n",
      "2\n"
     ]
    }
   ],
   "source": [
    "def substringCount(string,substring):\n",
    "    string1=str(string)\n",
    "    print(string1.count(substring))\n",
    "   \n",
    "    \n",
    "        \n",
    "substringCount('1234567891122334455', '1')\n",
    "substringCount('str', 'substr')\n",
    "substringCount('abccddccc', 'cc')\n",
    "    \n",
    "    "
   ]
  },
  {
   "cell_type": "markdown",
   "metadata": {},
   "source": [
    "# Problem 6:\n",
    "\n",
    "## Problem Statement:Define a function to merge the characters of two strings alternatively. The remaining characters of the longer string are printed in the same order at the end.\n",
    "\n",
    "### Test cases:\n",
    "* mergeString('abcd', 'abcd') -> 'aabbccdd'\n",
    "* mergeString('abc', '123456') -> 'a1b2c3456'\n",
    "* mergeString('0', '123456') -> '0123456'\n"
   ]
  },
  {
   "cell_type": "code",
   "execution_count": 7,
   "metadata": {},
   "outputs": [
    {
     "name": "stdout",
     "output_type": "stream",
     "text": [
      "aabbccdde,\n",
      "a1b2c3456,\n",
      "0123456"
     ]
    }
   ],
   "source": [
    "def mergeString(one,two):\n",
    "    if (len(one)>len(two)):\n",
    "        size=two\n",
    "        highest=one\n",
    "    else:\n",
    "        size=one\n",
    "        highest=two\n",
    "        \n",
    "    if (len(one)==len(two)):\n",
    "        for i in range(0,len(size)):\n",
    "            print(one[i]+two[i],end =\"\")\n",
    "    else:\n",
    "        \n",
    "        \n",
    "        diff=len(one)-len(two)\n",
    "         \n",
    "        \n",
    "        for i in range(0,len(size)):\n",
    "            \n",
    "            print(one[i]+two[i],end =\"\")\n",
    "        \n",
    "        for j in range(0,abs(diff)):\n",
    "            \n",
    "            print(highest[len(size)+j],end=\"\")\n",
    "mergeString('abcd','abcde')\n",
    "print(\",\")\n",
    "mergeString('abc', '123456')\n",
    "print(\",\")\n",
    "mergeString('0', '123456')"
   ]
  }
 ],
 "metadata": {
  "kernelspec": {
   "display_name": "Python 3",
   "language": "python",
   "name": "python3"
  },
  "language_info": {
   "codemirror_mode": {
    "name": "ipython",
    "version": 3
   },
   "file_extension": ".py",
   "mimetype": "text/x-python",
   "name": "python",
   "nbconvert_exporter": "python",
   "pygments_lexer": "ipython3",
   "version": "3.7.3"
  }
 },
 "nbformat": 4,
 "nbformat_minor": 2
}
