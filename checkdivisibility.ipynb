{
 "cells": [
  {
   "cell_type": "markdown",
   "metadata": {},
   "source": [
    "# Problem Solving and Programming\n",
    "\n",
    "## Name:\n",
    "\n",
    "### Day 8\n",
    "\n",
    "#### Day Objectives\n",
    "\n",
    "* objective 1:\n",
    "* objective 2"
   ]
  },
  {
   "cell_type": "markdown",
   "metadata": {},
   "source": [
    "# Problem 1:\n",
    "\n",
    "## Problem Statement: Define a function for a given number check it is divisible by 2 and 3 but not 4\n",
    "### Constraints: Given number will be in the range{1,1000000000}\n",
    "\n",
    "#### Test cases\n",
    "\n",
    "* checkdivisibility(6)->True\n",
    "* checkdivisibility(16)->False\n",
    "* checkdivisibility(20)->False"
   ]
  },
  {
   "cell_type": "code",
   "execution_count": 1,
   "metadata": {},
   "outputs": [
    {
     "data": {
      "text/plain": [
       "False"
      ]
     },
     "execution_count": 1,
     "metadata": {},
     "output_type": "execute_result"
    }
   ],
   "source": [
    "def checkdivisibility(n):\n",
    "    if n%2==0 and n%3==0 and n%4!=0:\n",
    "        return True\n",
    "    else:\n",
    "        return False\n",
    "\n",
    "checkdivisibility(20)"
   ]
  }
 ],
 "metadata": {
  "kernelspec": {
   "display_name": "Python 3",
   "language": "python",
   "name": "python3"
  },
  "language_info": {
   "codemirror_mode": {
    "name": "ipython",
    "version": 3
   },
   "file_extension": ".py",
   "mimetype": "text/x-python",
   "name": "python",
   "nbconvert_exporter": "python",
   "pygments_lexer": "ipython3",
   "version": "3.7.3"
  }
 },
 "nbformat": 4,
 "nbformat_minor": 2
}
