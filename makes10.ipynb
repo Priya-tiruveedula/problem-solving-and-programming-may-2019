{
 "cells": [
  {
   "cell_type": "markdown",
   "metadata": {},
   "source": [
    "# Problem Solving and Programming\n",
    "\n",
    "## Name:\n",
    "\n",
    "### Day 9\n",
    "\n",
    "#### Day Objectives\n",
    "\n",
    "* objective 1\n",
    "* objective 2"
   ]
  },
  {
   "cell_type": "markdown",
   "metadata": {},
   "source": [
    "# Problem 2:\n",
    "\n",
    "## Problem Statement: Given 2 ints, a and b, return True if one if them is 10 or if their sum is 10.\n",
    "\n",
    "\n",
    "#### Test cases\n",
    "\n",
    "* makes10(9, 1) →True\n",
    "* makes10(9, 2) →False\n",
    "* makes10(7, 3) →True\n",
    "* makes10(6, 5) →False"
   ]
  },
  {
   "cell_type": "code",
   "execution_count": 24,
   "metadata": {},
   "outputs": [
    {
     "data": {
      "text/plain": [
       "True"
      ]
     },
     "execution_count": 24,
     "metadata": {},
     "output_type": "execute_result"
    }
   ],
   "source": [
    "def makes10(x, y):\n",
    "    if(x==10 or y==10 or x+y==10):\n",
    "        return True\n",
    "    else:\n",
    "        return False\n",
    "    \n",
    "makes10(8, 2)"
   ]
  }
 ],
 "metadata": {
  "kernelspec": {
   "display_name": "Python 3",
   "language": "python",
   "name": "python3"
  },
  "language_info": {
   "codemirror_mode": {
    "name": "ipython",
    "version": 3
   },
   "file_extension": ".py",
   "mimetype": "text/x-python",
   "name": "python",
   "nbconvert_exporter": "python",
   "pygments_lexer": "ipython3",
   "version": "3.7.3"
  }
 },
 "nbformat": 4,
 "nbformat_minor": 2
}
