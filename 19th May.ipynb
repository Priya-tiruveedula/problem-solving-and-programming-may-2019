{
 "cells": [
  {
   "cell_type": "markdown",
   "metadata": {},
   "source": [
    "# Problem 1: 3n+1 problem."
   ]
  },
  {
   "cell_type": "code",
   "execution_count": 10,
   "metadata": {},
   "outputs": [
    {
     "name": "stdout",
     "output_type": "stream",
     "text": [
      "89\n",
      "8\n"
     ]
    }
   ],
   "source": [
    "def threeen(n):\n",
    "    li=[n]\n",
    "    while n!=1:\n",
    "        if n==1:\n",
    "            \n",
    "            li.append(n)\n",
    "    \n",
    "        else:\n",
    "            if n%2==0:\n",
    "                \n",
    "                n=n//2\n",
    "                li.append(n)\n",
    "            else:\n",
    "                \n",
    "                n=(3*n)+1\n",
    "                li.append(n)\n",
    "\n",
    "    \n",
    "    return len(li)\n",
    "def three1(i,j):\n",
    "    return max(map(threeen,range(i,j+1)))\n",
    "   \n",
    "    # method 2\n",
    "    #maxlen=0\n",
    "    #lenlist=[threeen(k) for k in range(i,j+1) if maxlen<threeen(k)]\n",
    "    #return max(lenlist)\n",
    "\n",
    "#print(threeen(3))\n",
    "print(three1(201,210))\n",
    "print(three1(1,3))\n",
    "    "
   ]
  },
  {
   "cell_type": "code",
   "execution_count": 5,
   "metadata": {},
   "outputs": [
    {
     "name": "stdout",
     "output_type": "stream",
     "text": [
      "8\n"
     ]
    }
   ],
   "source": [
    "# To run this edit above code as return li rather that len(li)\n",
    "\n",
    "def three(i,j):\n",
    "    fin=[]\n",
    "    for x in range(i,j+1):\n",
    "        \n",
    "        fin.append(len(threeen(x)))\n",
    "        \n",
    "    print(max(fin))\n",
    "three(1,3)\n"
   ]
  }
 ],
 "metadata": {
  "kernelspec": {
   "display_name": "Python 3",
   "language": "python",
   "name": "python3"
  },
  "language_info": {
   "codemirror_mode": {
    "name": "ipython",
    "version": 3
   },
   "file_extension": ".py",
   "mimetype": "text/x-python",
   "name": "python",
   "nbconvert_exporter": "python",
   "pygments_lexer": "ipython3",
   "version": "3.7.3"
  }
 },
 "nbformat": 4,
 "nbformat_minor": 2
}
