{
 "cells": [
  {
   "cell_type": "markdown",
   "metadata": {},
   "source": [
    "# Problem 1:\n",
    "\n",
    "# For a given integer N, find the total number of  Non - Prime Factors in the range (1, N) (both exclusive) that do not contain the digit 0.\n",
    "\n",
    "## Test cases:\n",
    "\n",
    "* nonPrimeFactorsCount( 100 ) -> 2\n",
    "* nonPrimeFactorsCount( 50 )  ->  1"
   ]
  },
  {
   "cell_type": "code",
   "execution_count": 3,
   "metadata": {},
   "outputs": [
    {
     "name": "stdout",
     "output_type": "stream",
     "text": [
      "True\n",
      "False\n",
      "True\n",
      "False\n"
     ]
    }
   ],
   "source": [
    "def IsPrime(prime):\n",
    "    count=0\n",
    "    for i in range(2,prime):\n",
    "        if(prime%i==0):\n",
    "            count=count+1\n",
    "    if(count>0):\n",
    "        return False\n",
    "    else:\n",
    "         return True\n",
    "    \n",
    "  \n",
    "        \n",
    "print(IsPrime(5))\n",
    "print(IsPrime(6))\n",
    "print(IsPrime(7))\n",
    "print(IsPrime(8))\n"
   ]
  },
  {
   "cell_type": "code",
   "execution_count": 4,
   "metadata": {},
   "outputs": [
    {
     "name": "stdout",
     "output_type": "stream",
     "text": [
      "1\n"
     ]
    }
   ],
   "source": [
    "def nonPrimeFactorsCount(n):\n",
    "    l=[]\n",
    "    r=[]\n",
    "    f=[]\n",
    "    for i in range(2,n):\n",
    "        if(n%i==0):\n",
    "            l.append(i)\n",
    "            \n",
    "    for i in range(0,len(l)):\n",
    "        \n",
    "        if not IsPrime(l[i]):\n",
    "            r.append(l[i])\n",
    "            \n",
    "    for i in range(0,len(r)):\n",
    "        if r[i]%10!=0:\n",
    "            f.append(r[i])\n",
    "            \n",
    "    return len(f)\n",
    "            \n",
    "\n",
    "print(nonPrimeFactorsCount(50))   \n",
    "            "
   ]
  },
  {
   "cell_type": "markdown",
   "metadata": {},
   "source": [
    "# Problem 2:\n",
    "\n",
    "## For a given integer N. Find the least positive integer X made up of only 9's and 0's, such that, X is a multiple of N. X is made up of one or more occurrences of 9 and zero or more occurrences of 0.\n",
    "\n",
    "### Test cases:\n",
    "\n",
    "* Multiple( 5 )  -> 90\n",
    "* Multiple ( 7 )  -> 9009\n",
    "* Multiple( 1 )  -> 9"
   ]
  },
  {
   "cell_type": "code",
   "execution_count": 2,
   "metadata": {},
   "outputs": [
    {
     "name": "stdout",
     "output_type": "stream",
     "text": [
      "90\n",
      "9009\n",
      "9\n"
     ]
    }
   ],
   "source": [
    "def Multiple(n):\n",
    "    i=2\n",
    "    \n",
    "    while i>1:\n",
    "        \n",
    "        x=n*i\n",
    "        y=str(x)\n",
    "        \n",
    "        va=0\n",
    "        for j in range(0,len(y)):\n",
    "            if(y[j]=='0' or y[j]=='9'):\n",
    "                va=va+1\n",
    "                #print(va)\n",
    "       \n",
    "        if(va==len(y)):\n",
    "            return y\n",
    "        else:\n",
    "            i=i+1\n",
    "            \n",
    "        \n",
    "print(Multiple(5))\n",
    "print(Multiple(7))\n",
    "print(Multiple(1))\n",
    "        "
   ]
  },
  {
   "cell_type": "code",
   "execution_count": null,
   "metadata": {},
   "outputs": [],
   "source": [
    "def Multiple(n):\n",
    "    i=1\n",
    "    while(True):\n",
    "        j=bin(i)\n",
    "        j=int(j[2:])*9\n",
    "        if j%n==0:\n",
    "            return j\n",
    "        else:\n",
    "            i+=1\n",
    "\n",
    "print(Multiple(5))  \n",
    "print(Multiple(7)) \n",
    "print(Multiple(1)) "
   ]
  }
 ],
 "metadata": {
  "kernelspec": {
   "display_name": "Python 3",
   "language": "python",
   "name": "python3"
  },
  "language_info": {
   "codemirror_mode": {
    "name": "ipython",
    "version": 3
   },
   "file_extension": ".py",
   "mimetype": "text/x-python",
   "name": "python",
   "nbconvert_exporter": "python",
   "pygments_lexer": "ipython3",
   "version": "3.7.3"
  }
 },
 "nbformat": 4,
 "nbformat_minor": 2
}
