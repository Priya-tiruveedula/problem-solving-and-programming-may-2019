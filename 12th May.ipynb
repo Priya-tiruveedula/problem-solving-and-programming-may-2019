{
 "cells": [
  {
   "cell_type": "markdown",
   "metadata": {},
   "source": [
    "# Problem 1:\n",
    "\n",
    "# You are given n words. Some words may repeat. For each word, output its number of occurrences. The output order should correspond with the input order of appearance of the word. \n",
    "\n",
    "## First line of input contains the total number of words n. Next n lines contain words that need to processed.\n",
    "\n",
    "### First line of the output should contain the total number distinct words. Second line of output must contain the frequency of words the same order of their appearance as in the input\n",
    "\n",
    "#### Test cases:\n",
    "\n",
    "* Sample Input :  6\n",
    "\n",
    "* abcd\n",
    "\n",
    "* ijkl\n",
    "\n",
    "* abcd\n",
    "\n",
    "* pqrs\n",
    "\n",
    "* abcd\n",
    "\n",
    "* ijkl\n",
    "\n",
    "* Sample Output :   3\n",
    "\n",
    "* 3  2   1"
   ]
  },
  {
   "cell_type": "code",
   "execution_count": 1,
   "metadata": {},
   "outputs": [
    {
     "name": "stdout",
     "output_type": "stream",
     "text": [
      "3\n",
      "[3, 2, 1]\n"
     ]
    },
    {
     "data": {
      "text/plain": [
       "0.0007302270000000277"
      ]
     },
     "execution_count": 1,
     "metadata": {},
     "output_type": "execute_result"
    }
   ],
   "source": [
    "import numpy as np,timeit\n",
    "def occurrences(l):\n",
    "    start=timeit.default_timer()\n",
    "    x = np.array(l)\n",
    "    \n",
    "    res=[]\n",
    "   \n",
    "    z=np.unique(x)\n",
    "    \n",
    "    \n",
    "    for i in range(0,len(z)):\n",
    "        count=0\n",
    "        for j in range(0,len(l)):\n",
    "            if(z[i]==l[j]):\n",
    "                count=count+1\n",
    "                \n",
    "        res.append(count)\n",
    "    print(len(res))\n",
    "        \n",
    "    print(res)\n",
    "    return timeit.default_timer()-start\n",
    "    \n",
    "        \n",
    "            \n",
    "                \n",
    "occurrences(['abcd','ijkl','abcd','pqrs','abcd','ijkl'])\n",
    "    "
   ]
  },
  {
   "cell_type": "markdown",
   "metadata": {},
   "source": [
    "# Problem 2:\n",
    "\n",
    "# Define a function to validate email addresses based on the following rules.\n",
    "\n",
    "## Email should be in the format username@domain.extension\n",
    "* username must start with an alphabet and can contain lowercase alphabet, digits, hyphen(-) and underscores( _ ).\n",
    "* username must not contain special characters, uppercase letters, whitespaces.\n",
    "* Length of username must be in the range (6, 16)\n",
    "* Domain can only contain lowercase alphabet and digits with length in range (3, 10) . No special characters are allowed\n",
    "* Extension can only contain lower case alphabet and its length must be in the range (2, 4)\n",
    "* First line of input contains total number of email addresses n.  Next n lines contain  n email addresses.\n",
    "\n",
    "### Test cases:\n",
    "\n",
    "* Output must contain contain  n  lines with either 'Valid' or 'Invalid'\n",
    "\n",
    "* Sample Input :  6\n",
    "\n",
    "* abc456@gmail.com\n",
    "\n",
    "* 456abc@yahoo.com\n",
    "\n",
    "* abc_456@gitam.ed1\n",
    "\n",
    "* abc-456@abc-d.in\n",
    "\n",
    "* python@python.edu\n",
    "\n",
    "* abc 456@edu.edu\n",
    "\n",
    "* Sample Output :   Valid\n",
    "\n",
    "* Invalid\n",
    "\n",
    "* Invalid\n",
    "\n",
    "* Invalid\n",
    "\n",
    "* Valid\n",
    "\n",
    "* Invalid"
   ]
  },
  {
   "cell_type": "code",
   "execution_count": null,
   "metadata": {},
   "outputs": [],
   "source": [
    "import re\n",
    "def validate(email):\n",
    "    \n",
    "    x=re.compile('[a-z][a-z0-9-_]{5,16}@[a-z0-9]{3,10}\\.[a-z]{2,4}')\n",
    "    r=x.match(email)\n",
    "    if r:\n",
    "        return \"valid\"\n",
    "    else:\n",
    "        return \"invalid\"\n",
    "    \n",
    "        \n",
    "\n",
    "op=input(\"enter count:\")\n",
    "final=\" \"\n",
    "for i in range(0,int(op)):\n",
    "    input1=input(\"enter email: \")\n",
    "    res=validate(input1)\n",
    "    final=final+res\n",
    "\n",
    "print(final)\n",
    "\n",
    "\n"
   ]
  },
  {
   "cell_type": "markdown",
   "metadata": {},
   "source": [
    " # Problem 3: Define a function that take an array of integers A, and an integer K and returns the longest possible sub-set of A i.e A' such that the sum of no two elements in A' is divisible by K.\n",
    "\n",
    "# First line in input contains the length of A and the integer K. Second line of input contains len(A) space-separated integers.\n",
    "\n",
    "# Output must contain the length of A' list\n",
    "\n",
    "* Sample Input :    4  3\n",
    "\n",
    "* 1 7 2 4\n",
    "\n",
    "* Sample Output : 3"
   ]
  },
  {
   "cell_type": "code",
   "execution_count": null,
   "metadata": {},
   "outputs": [],
   "source": [
    "from itertools import combinations\n",
    "def longestsequence(l,k):\n",
    "    for i in range(len(l),1,-1):\n",
    "        l1=list(combinations(l,i))\n",
    "        #print(l1)\n",
    "        for j in range(len(l1)):\n",
    "            c=0\n",
    "            l2=list(combinations(l1[j],2))\n",
    "            for m in range(len(l2)):\n",
    "                if sum(l2[m])%k!=0:\n",
    "                    c+=1\n",
    "            if c==len(l2):\n",
    "                return(len(l1[j]))\n",
    "\n",
    "n,k=input().split(' ')\n",
    "l=[int(i) for i in input().split(' ')]\n",
    "print(longestsequence(l,int(k))) "
   ]
  }
 ],
 "metadata": {
  "kernelspec": {
   "display_name": "Python 3",
   "language": "python",
   "name": "python3"
  },
  "language_info": {
   "codemirror_mode": {
    "name": "ipython",
    "version": 3
   },
   "file_extension": ".py",
   "mimetype": "text/x-python",
   "name": "python",
   "nbconvert_exporter": "python",
   "pygments_lexer": "ipython3",
   "version": "3.7.3"
  }
 },
 "nbformat": 4,
 "nbformat_minor": 2
}
