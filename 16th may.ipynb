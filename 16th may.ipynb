{
 "cells": [
  {
   "cell_type": "markdown",
   "metadata": {},
   "source": [
    "# Problem Solving and Programming\n",
    "\n",
    "## Name:T.N.NPriya\n",
    "\n",
    "### Date:16-05-2019\n",
    "\n",
    "### Objective\n",
    "\n",
    "* File handling\n",
    "* External Libraries\n",
    "* Functional Programming --passing a function as argument to a function eg: map()\n",
    "\n",
    "\n"
   ]
  },
  {
   "cell_type": "markdown",
   "metadata": {},
   "source": [
    "# Problem 1:define a function to read data from text file\n",
    " "
   ]
  },
  {
   "cell_type": "code",
   "execution_count": 12,
   "metadata": {},
   "outputs": [
    {
     "data": {
      "text/plain": [
       "'first line \\nsecond line \\n'"
      ]
     },
     "execution_count": 12,
     "metadata": {},
     "output_type": "execute_result"
    }
   ],
   "source": [
    "def readFileData(filename):\n",
    "    f=open(filename,'r')\n",
    "    filedata=f.read()\n",
    "    f.close()\n",
    "    return filedata\n",
    "\n",
    "readFileData('Datafiles/data1.txt')"
   ]
  },
  {
   "cell_type": "code",
   "execution_count": 10,
   "metadata": {},
   "outputs": [],
   "source": [
    "def writeIntoFile(filename,data):\n",
    "    with open(filename,'w') as f: # overwrites\n",
    "        f.write(data)\n",
    "    return\n",
    "    \n",
    "\n",
    "writeIntoFile('Datafiles/data1.txt','first line \\n')\n"
   ]
  },
  {
   "cell_type": "code",
   "execution_count": 45,
   "metadata": {},
   "outputs": [],
   "source": [
    "def writeIntoFile(filename,data,mode):  # appends data using mode 'a'\n",
    "    with open(filename,mode) as f:   \n",
    "            f.write(data)\n",
    "                      \n",
    "        \n",
    "    return\n",
    "    \n",
    "\n",
    "writeIntoFile('Datafiles/data1.txt','second line \\n','a')"
   ]
  },
  {
   "cell_type": "code",
   "execution_count": 48,
   "metadata": {},
   "outputs": [
    {
     "name": "stdout",
     "output_type": "stream",
     "text": [
      "first line \n",
      "\n",
      "second line \n",
      "\n",
      "second line \n",
      "\n"
     ]
    }
   ],
   "source": [
    "def writeIntoFile(filename):\n",
    "    with open(filename,'r') as f:\n",
    "        for line in f:\n",
    "            print(line)\n",
    "    return\n",
    "\n",
    "writeIntoFile('Datafiles/data1.txt')        \n",
    "        \n",
    "        "
   ]
  },
  {
   "cell_type": "markdown",
   "metadata": {},
   "source": [
    "# Problem 2:Define a function to generate marks data file for 1300 students such that each mark is entered in a new line.\n",
    "\n",
    "## Constraints: \n",
    "* marks range from 0 to 100 both are inclusive and random numbers.\n",
    "* marks data file should be text file.\n"
   ]
  },
  {
   "cell_type": "code",
   "execution_count": 21,
   "metadata": {},
   "outputs": [],
   "source": [
    "import random \n",
    "def marksdata(filename):\n",
    "    with open(filename,'w') as f: \n",
    "        for i in range(0,1300):\n",
    "            \n",
    "            f.write(str(random.randint(0,100))+\"\\n\")\n",
    "    return\n",
    "\n",
    "marksdata('Datafiles/marks.txt')\n"
   ]
  },
  {
   "cell_type": "markdown",
   "metadata": {},
   "source": [
    "# Problem 3: Define a function to generate a report on the marks data with the following indicators \n",
    "* highest mark\n",
    "* lowest mark\n",
    "* Average mark\n",
    "* No.of students with distinction(>=80):\n",
    "* no.of students with first class(>=70):\n",
    "* no.of students with second class(>=60):\n",
    "* no.of students with third class(>=40):\n",
    "* no.of students failed(<40):\n",
    "\n"
   ]
  },
  {
   "cell_type": "code",
   "execution_count": 104,
   "metadata": {},
   "outputs": [
    {
     "name": "stdout",
     "output_type": "stream",
     "text": [
      "highest mark= 100\n",
      "lowest mark= 0\n",
      "average mark= 50.41153846153846\n",
      "No.of students with distinction(>=80): 285\n",
      "no.of students with first class(>=70): 126\n",
      "no.of students with second class(>=60): 126\n",
      "no.of students with third class(>=40): 245\n",
      "no.of students failed(<40):  518\n"
     ]
    },
    {
     "data": {
      "text/plain": [
       "0.0034430920004524523"
      ]
     },
     "execution_count": 104,
     "metadata": {},
     "output_type": "execute_result"
    }
   ],
   "source": [
    "\n",
    "import statistics,timeit\n",
    "def marksop(filename):\n",
    "    l=[]\n",
    "    dis,fir,sec,thir,fail=0,0,0,0,0\n",
    "    start=timeit.default_timer()\n",
    "    #method1\n",
    "    #with open(filename,'r') as f:\n",
    "    # marks=[int(line) for line in f]\n",
    "    #print(max(marks))\n",
    "    \n",
    "    #method2\n",
    "    #re.split('\\n',f.read())\n",
    "    #['23', '32', '42']\n",
    "   \n",
    "    f=open(filename,'r')\n",
    "    for i in range(0,1300):\n",
    "        filedata=f.readline()\n",
    "        l.append(int((filedata).rstrip()))\n",
    "    print(\"highest mark=\",max(l))\n",
    "    print(\"lowest mark=\",min(l))\n",
    "    print(\"average mark=\",statistics.mean(l))\n",
    "    for i in range(0,1300):\n",
    "        if l[i]>=80:\n",
    "            dis=dis+1\n",
    "        elif l[i]>=70 and l[i]<80:\n",
    "            fir=fir+1\n",
    "        elif l[i]>=60 and l[i]<70:\n",
    "            sec=sec+1\n",
    "        elif l[i]>=40 and l[i]<60:\n",
    "            thir=thir+1\n",
    "        elif l[i]<40:\n",
    "            fail=fail+1\n",
    "    print(\"No.of students with distinction(>=80):\",dis)\n",
    "    print(\"no.of students with first class(>=70):\",fir)\n",
    "    print(\"no.of students with second class(>=60):\",sec)\n",
    "    print(\"no.of students with third class(>=40):\",thir)\n",
    "    print(\"no.of students failed(<40): \",fail)\n",
    "    \n",
    "    return timeit.default_timer()-start\n",
    "        \n",
    "marksop('Datafiles/marks.txt')\n",
    "        \n",
    "        \n",
    "    "
   ]
  },
  {
   "cell_type": "code",
   "execution_count": 2,
   "metadata": {},
   "outputs": [
    {
     "name": "stdout",
     "output_type": "stream",
     "text": [
      "Distinction: 285\n",
      "First: 126\n",
      "second: 126\n",
      "Third: 245\n"
     ]
    },
    {
     "data": {
      "text/plain": [
       "0.004661949999984927"
      ]
     },
     "execution_count": 2,
     "metadata": {},
     "output_type": "execute_result"
    }
   ],
   "source": [
    "import re\n",
    "import statistics,timeit\n",
    "def split(filename):\n",
    "    start=timeit.default_timer()\n",
    "    with open(filename,'r') as f:\n",
    "        \n",
    "        l=re.split('\\n',f.read())\n",
    "        marksdata=[int(l[line]) for line in range(1,len(l)-1)]\n",
    "       \n",
    "        distinction=sum([1 for i in marksdata if i >=80])\n",
    "    print(\"Distinction:\",distinction)\n",
    "    first=sum([1 for i in marksdata if i >=70 and i<80])\n",
    "    print(\"First:\",first)\n",
    "    second=sum([1 for i in marksdata if i >=60 and i<70])\n",
    "    print(\"second:\",second)\n",
    "    third=sum([1 for i in marksdata if i >=40 and i<60])\n",
    "    print(\"Third:\",third)\n",
    "    failed=sum([1 for i in marksdata if i <40])\n",
    "    #print(\"Failed:\",failed)\n",
    "     \n",
    "        #print(marksdata)\n",
    "#def distinction(mark):\n",
    "    #return mark>=80\n",
    "#dis=sum(map(distinction,marksdata))\n",
    "    \n",
    "    return timeit.default_timer()-start\n",
    "split('Datafiles/marks.txt')\n",
    "    \n",
    "\n",
    "    "
   ]
  }
 ],
 "metadata": {
  "kernelspec": {
   "display_name": "Python 3",
   "language": "python",
   "name": "python3"
  },
  "language_info": {
   "codemirror_mode": {
    "name": "ipython",
    "version": 3
   },
   "file_extension": ".py",
   "mimetype": "text/x-python",
   "name": "python",
   "nbconvert_exporter": "python",
   "pygments_lexer": "ipython3",
   "version": "3.7.3"
  }
 },
 "nbformat": 4,
 "nbformat_minor": 2
}
