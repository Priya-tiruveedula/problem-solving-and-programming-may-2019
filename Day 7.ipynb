{
 "cells": [
  {
   "cell_type": "markdown",
   "metadata": {},
   "source": [
    "# Problem Solving and Programming\n",
    "\n",
    "## Name:T.N.NPriya\n",
    "\n",
    "### Date:10-05-2019\n",
    "\n",
    "#### Day Objectives\n",
    "* objective 1\n",
    "* objective 2"
   ]
  },
  {
   "cell_type": "markdown",
   "metadata": {},
   "source": [
    "# Problem 1:\n",
    "\n",
    "## Problem Statement: Design a procedure to search for an element in a given array.\n",
    "\n",
    "### Constarint:\n",
    "\n",
    "#### Test cases:\n",
    "* search([1,2, 3 ,5, 8, 9], 9) -> 6"
   ]
  },
  {
   "cell_type": "code",
   "execution_count": 1,
   "metadata": {},
   "outputs": [],
   "source": [
    "def search(a,key):\n",
    "    return a.index(key)+1\n",
    "\n",
    "print(search([1,2, 3 ,5, 8, 9], 9))\n",
    "print(search([1,2, 6 ,5, 7, 9], 6))\n",
    "print(search([1,2, 3 ,5, 8, 9], 5))"
   ]
  },
  {
   "cell_type": "markdown",
   "metadata": {},
   "source": [
    "# Problem 2:\n",
    "\n",
    "## Problem Statement:Design a procedure to identify all unique elements in an array.\n",
    "\n",
    "### Constarint:\n",
    "\n",
    "#### Test cases:\n",
    "\n",
    "* unique([1, 2, 3, 4, 3, 2, 1, 0, 0]) -> [1, 2, 3, 4, 0]\n",
    "* unique([9]) -> [9]"
   ]
  },
  {
   "cell_type": "code",
   "execution_count": 2,
   "metadata": {},
   "outputs": [
    {
     "name": "stdout",
     "output_type": "stream",
     "text": [
      "[2 3 5]\n"
     ]
    }
   ],
   "source": [
    "import numpy\n",
    "def unique(a):\n",
    "    x=numpy.array(a)\n",
    "    return numpy.unique(x)\n",
    "    \n",
    "\n",
    "print(unique([2,2,5,3]))\n",
    "    "
   ]
  },
  {
   "cell_type": "code",
   "execution_count": 3,
   "metadata": {},
   "outputs": [
    {
     "name": "stdout",
     "output_type": "stream",
     "text": [
      "[2, 3, 4]\n",
      "[8, 2, 3, 4]\n",
      "[1, 5, 4]\n"
     ]
    }
   ],
   "source": [
    "def unique(a):\n",
    "    store=[]\n",
    "    for x in a:\n",
    "        if x not in store:\n",
    "            store.append(x)\n",
    "    return store\n",
    "            \n",
    "print(unique([2,2,3,4]))\n",
    "print(unique([8,2,3,4,4,3]))\n",
    "print(unique([1,5,5,4]))\n"
   ]
  },
  {
   "cell_type": "markdown",
   "metadata": {},
   "source": [
    "# Problem 3:\n",
    "\n",
    "## Problem Statement:Design a procedure to sort a given array in ascending order.\n",
    "\n",
    "### Constarint:\n",
    "\n",
    "#### Test cases:\n",
    "* sort([3, 2, 1, 4, 4, 5, 6]) -> [1, 2, 3, 4, 4, 5, 6]\n",
    "* sort([1, 2, 3]) -> [1, 2, 3]"
   ]
  },
  {
   "cell_type": "code",
   "execution_count": 4,
   "metadata": {},
   "outputs": [
    {
     "data": {
      "text/plain": [
       "[1, 2, 3, 4, 4, 5, 6]"
      ]
     },
     "execution_count": 4,
     "metadata": {},
     "output_type": "execute_result"
    }
   ],
   "source": [
    "def sort(a):\n",
    "    return sorted(a) # sorted return value\n",
    "\n",
    "sort([3, 2, 1, 4, 4, 5, 6])"
   ]
  },
  {
   "cell_type": "code",
   "execution_count": 5,
   "metadata": {},
   "outputs": [
    {
     "data": {
      "text/plain": [
       "[1, 2, 3, 4, 4, 5, 6]"
      ]
     },
     "execution_count": 5,
     "metadata": {},
     "output_type": "execute_result"
    }
   ],
   "source": [
    "def sort(a):\n",
    "    a.sort() #sort() doest return any value\n",
    "    return a\n",
    "\n",
    "sort([3, 2, 1, 4, 4, 5, 6])"
   ]
  }
 ],
 "metadata": {
  "kernelspec": {
   "display_name": "Python 3",
   "language": "python",
   "name": "python3"
  },
  "language_info": {
   "codemirror_mode": {
    "name": "ipython",
    "version": 3
   },
   "file_extension": ".py",
   "mimetype": "text/x-python",
   "name": "python",
   "nbconvert_exporter": "python",
   "pygments_lexer": "ipython3",
   "version": "3.7.3"
  }
 },
 "nbformat": 4,
 "nbformat_minor": 2
}
