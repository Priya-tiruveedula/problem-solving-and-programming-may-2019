{
 "cells": [
  {
   "cell_type": "markdown",
   "metadata": {},
   "source": [
    "# Problem Solving and Programming\n",
    "\n",
    "## Name:\n",
    "\n",
    "### Day 9\n",
    "\n",
    "#### Day Objectives\n",
    "\n",
    "* objective 1:\n",
    "* objective 2"
   ]
  },
  {
   "cell_type": "markdown",
   "metadata": {},
   "source": [
    "# Problem 2:\n",
    "\n",
    "## Problem Statement: Evaluate the polynomial\n",
    "### Constraints: Given number will be in the range{1,1000}\n",
    "\n",
    "#### Test cases\n",
    "\n",
    "* polynomial(2)->12\n",
    "* polynomial(16)->4646\n",
    "* polynomial(20)->8850\n",
    "* polynomial(999)->999001988"
   ]
  },
  {
   "cell_type": "code",
   "execution_count": 7,
   "metadata": {},
   "outputs": [
    {
     "name": "stdout",
     "output_type": "stream",
     "text": [
      "999001988\n"
     ]
    }
   ],
   "source": [
    "def polynomial(x):\n",
    "    x=(x**3)+(2*(x**2))+(3*x)-10\n",
    "    print(x)\n",
    "\n",
    "\n",
    "polynomial(999)"
   ]
  }
 ],
 "metadata": {
  "kernelspec": {
   "display_name": "Python 3",
   "language": "python",
   "name": "python3"
  },
  "language_info": {
   "codemirror_mode": {
    "name": "ipython",
    "version": 3
   },
   "file_extension": ".py",
   "mimetype": "text/x-python",
   "name": "python",
   "nbconvert_exporter": "python",
   "pygments_lexer": "ipython3",
   "version": "3.7.3"
  }
 },
 "nbformat": 4,
 "nbformat_minor": 2
}
