{
 "cells": [
  {
   "cell_type": "markdown",
   "metadata": {},
   "source": [
    "# Problem Solving and Programming\n",
    "\n",
    "## Name:T.N.NPriya\n",
    "\n",
    "### Date:09-05-2019\n",
    "\n",
    "#### Day Objectives\n",
    "\n",
    "* objective 1\n",
    "* objective 2"
   ]
  },
  {
   "cell_type": "markdown",
   "metadata": {},
   "source": [
    "# Problem 1:\n",
    "# Problem Statement: Evaluate the polynomial\n",
    "## Constraints: Given number will be in the range{1,1000}\n",
    "### Test cases\n",
    "* polynomial(2)->12\n",
    "* polynomial(16)->4646\n",
    "* polynomial(20)->8850\n",
    "* polynomial(999)->999001988"
   ]
  },
  {
   "cell_type": "code",
   "execution_count": 1,
   "metadata": {},
   "outputs": [
    {
     "name": "stdout",
     "output_type": "stream",
     "text": [
      "999001988\n",
      "4646\n",
      "8850\n",
      "12\n"
     ]
    }
   ],
   "source": [
    "def polynomial(x):\n",
    "    x=(x**3)+(2*(x**2))+(3*x)-10\n",
    "    print(x)\n",
    "\n",
    "\n",
    "polynomial(999)\n",
    "polynomial(16)\n",
    "polynomial(20)\n",
    "polynomial(2)"
   ]
  },
  {
   "cell_type": "markdown",
   "metadata": {},
   "source": [
    "# Problem 2:\n",
    "## Problem Statement: Determining whether a number is Even or Odd\n",
    "### Constraints: Given number will be in the range{1,1000}\n",
    "### Test cases\n",
    "* EvenorOdd(2)->Even\n",
    "* EvenorOdd(16)->Even\n",
    "* EvenorOdd(21)->Odd\n",
    "* EvenorOdd(989)->Odd"
   ]
  },
  {
   "cell_type": "code",
   "execution_count": 2,
   "metadata": {},
   "outputs": [
    {
     "name": "stdout",
     "output_type": "stream",
     "text": [
      "Odd\n",
      "Even\n",
      "Even\n",
      "Odd\n",
      "Odd\n"
     ]
    }
   ],
   "source": [
    "def EvenorOdd(x):\n",
    "    if x%2==0:\n",
    "        print(\"Even\")\n",
    "    else:\n",
    "        print(\"Odd\")\n",
    "    \n",
    "EvenorOdd(989)\n",
    "EvenorOdd(2)\n",
    "EvenorOdd(16)\n",
    "EvenorOdd(21)\n",
    "EvenorOdd(989)\n"
   ]
  },
  {
   "cell_type": "markdown",
   "metadata": {},
   "source": [
    "# Problem 3:\n",
    "## Problem Statement: Define a function for a given number check it is divisible by 2 and 3 but not 4\n",
    "\n",
    "### Constraints: Given number will be in the range{1,1000000000}\n",
    "\n",
    "#### Test cases\n",
    "\n",
    "* checkdivisibility(6)->True\n",
    "* checkdivisibility(16)->False\n",
    "* checkdivisibility(20)->False"
   ]
  },
  {
   "cell_type": "code",
   "execution_count": 3,
   "metadata": {},
   "outputs": [
    {
     "name": "stdout",
     "output_type": "stream",
     "text": [
      "False\n",
      "True\n",
      "False\n"
     ]
    }
   ],
   "source": [
    "def checkdivisibility(n):\n",
    "    if n%2==0 and n%3==0 and n%4!=0:\n",
    "        print(\"True\")\n",
    "    else:\n",
    "        print(\"False\")\n",
    "\n",
    "checkdivisibility(20)\n",
    "checkdivisibility(6)\n",
    "checkdivisibility(16)"
   ]
  },
  {
   "cell_type": "markdown",
   "metadata": {},
   "source": [
    "# Problem 4:\n",
    "\n",
    "# Given 2 ints, a and b, return True if one if them is 10 or if their sum is 10.\n",
    "\n",
    "## Constraints: \n",
    "\n",
    "### Test cases\n",
    "\n",
    "* makes10(9, 10) → True\n",
    "* makes10(9, 9) → False\n",
    "* makes10(1, 9) → True"
   ]
  },
  {
   "cell_type": "code",
   "execution_count": 4,
   "metadata": {},
   "outputs": [
    {
     "data": {
      "text/plain": [
       "True"
      ]
     },
     "execution_count": 4,
     "metadata": {},
     "output_type": "execute_result"
    }
   ],
   "source": [
    "def makes10(x, y):\n",
    "    if(x==10 or y==10 or x+y==10):\n",
    "        return True\n",
    "    else:\n",
    "        return False\n",
    "    \n",
    "makes10(8, 2)"
   ]
  },
  {
   "cell_type": "markdown",
   "metadata": {},
   "source": [
    "# Problem 5:\n",
    "\n",
    "## Problem Statement: Given 2 int values, return True if one is negative and one is positive. Except if the parameter \"negative\" is True, then return True only if both are negative.\n",
    "\n",
    "### Constarints:\n",
    "\n",
    "#### Test cases\n",
    "* pos_neg(1, -1, False) → True\n",
    "* pos_neg(-1, 1, False) → True\n",
    "* pos_neg(-4, -5, True) → True\n",
    "* pos_neg(-4, -5, False) → False"
   ]
  },
  {
   "cell_type": "code",
   "execution_count": 5,
   "metadata": {},
   "outputs": [
    {
     "data": {
      "text/plain": [
       "False"
      ]
     },
     "execution_count": 5,
     "metadata": {},
     "output_type": "execute_result"
    }
   ],
   "source": [
    "def pos_neg(x,y,negative):\n",
    "    if((x<0 and y>=0) or (x>=0 and y<0)):\n",
    "        \n",
    "        return True\n",
    "    \n",
    "    if(x<0 and y<0):\n",
    "        if(negative==True):\n",
    "          \n",
    "            return True\n",
    "        else:\n",
    "            return False\n",
    "        \n",
    "pos_neg(-4,-5,False)"
   ]
  },
  {
   "cell_type": "markdown",
   "metadata": {},
   "source": [
    "# Problem 6:\n",
    "\n",
    "## Problem Statement:Given an int n, return True if it is within 10 of 100 or 200. Note: abs(num) computes the absolute value of a number.\n",
    "\n",
    "### Constarint:\n",
    "\n",
    "#### Test cases\n",
    "* near_hundred(93) → True\n",
    "* near_hundred(90) → True\n",
    "* near_hundred(89) → False"
   ]
  },
  {
   "cell_type": "code",
   "execution_count": 6,
   "metadata": {},
   "outputs": [
    {
     "data": {
      "text/plain": [
       "False"
      ]
     },
     "execution_count": 6,
     "metadata": {},
     "output_type": "execute_result"
    }
   ],
   "source": [
    "def near_hundred(x):\n",
    "    if(((100-abs(x))<=10) or ((200-abs(x))<=10)):\n",
    "         return True\n",
    "    else:\n",
    "            return False\n",
    "   \n",
    "\n",
    "    \n",
    "    \n",
    "near_hundred(89)"
   ]
  },
  {
   "cell_type": "markdown",
   "metadata": {},
   "source": [
    "# Problem 7:\n",
    "\n",
    "## Problem Statement:Create a Random Number Generator as a Procedure which takes the Range(lb, ub) and returns a Random number in the given range.\n",
    "\n",
    "### Constarint:\n",
    "\n",
    "#### Test cases\n",
    "* random(1,10) → 2\n",
    "* random(1,10) → 4\n",
    "* random(1,10) → 6"
   ]
  },
  {
   "cell_type": "code",
   "execution_count": 7,
   "metadata": {},
   "outputs": [
    {
     "name": "stdout",
     "output_type": "stream",
     "text": [
      "4\n"
     ]
    }
   ],
   "source": [
    "import random\n",
    "def randomrange(x ,y):\n",
    "    print(random.randrange(x,y))\n",
    "\n",
    "randomrange(1,10)"
   ]
  },
  {
   "cell_type": "markdown",
   "metadata": {},
   "source": [
    "# Problem 8:\n",
    "\n",
    "## Problem Statement:Procedure to print N natural numbers.\n",
    "### Constarint\n",
    "\n",
    "#### Test cases\n",
    "* naturalnumber(5) → 1,2,3,4,5\n",
    "* naturalnumber(6) → 1,2,3,4,5,6\n",
    "* naturalnumber(7) → 1,2,3,4,5,6,7"
   ]
  },
  {
   "cell_type": "code",
   "execution_count": 8,
   "metadata": {},
   "outputs": [
    {
     "name": "stdout",
     "output_type": "stream",
     "text": [
      "1\n",
      "2\n",
      "3\n",
      "4\n",
      "5\n",
      "6\n",
      "7\n"
     ]
    }
   ],
   "source": [
    "def naturalnumber(x):\n",
    "    for i in range(1,x+1):\n",
    "        print(i)\n",
    "naturalnumber(7)"
   ]
  },
  {
   "cell_type": "markdown",
   "metadata": {},
   "source": [
    "# Problem 9:\n",
    "\n",
    "## Problem Statement:Procedure to calculate the factorial of a given number.\n",
    "### Constarint\n",
    "\n",
    "#### Test cases\n",
    "* factorial(5) → 120\n",
    "* factorial(6) → 720\n",
    "* factorial(7) → 5040"
   ]
  },
  {
   "cell_type": "code",
   "execution_count": 9,
   "metadata": {},
   "outputs": [
    {
     "name": "stdout",
     "output_type": "stream",
     "text": [
      "5040\n"
     ]
    }
   ],
   "source": [
    "import math\n",
    "def factorialnumber(x):\n",
    "    print(math.factorial(x))\n",
    "    \n",
    "    \n",
    "factorialnumber(7)"
   ]
  },
  {
   "cell_type": "markdown",
   "metadata": {},
   "source": [
    "# Problem 10:\n",
    "\n",
    "## Problem Statement:Designing procedures for Basic Arithmetic operations\n",
    "### Constarint:\n",
    "\n",
    "#### Test cases\n",
    "\n",
    "* arithmetic(\"+\") → 5\n",
    "* arithmetic(\"*\") → 6\n",
    "* arithmetic(\"%\") → 2"
   ]
  },
  {
   "cell_type": "code",
   "execution_count": null,
   "metadata": {},
   "outputs": [],
   "source": [
    "a=2\n",
    "b=3\n",
    "def add():\n",
    "    return a+b\n",
    "def sub():\n",
    "    return a-b\n",
    "def mul():\n",
    "    return a*b\n",
    "def div():\n",
    "    return a/b\n",
    "def modulus():\n",
    "    return a%b\n",
    "switcher={\n",
    "    \"+\":add,\n",
    "    \"-\":sub,\n",
    "    \"*\":mul,\n",
    "    \"/\":div,\n",
    "    \"%\":modulus\n",
    "}\n",
    "def arithmetic(argument):\n",
    "    func = switcher.get(argument, \"nothing\")\n",
    "    return func()\n",
    "\n",
    "arithmetic(input(\"enter any arithmetic symbol: \"))"
   ]
  },
  {
   "cell_type": "code",
   "execution_count": null,
   "metadata": {},
   "outputs": [],
   "source": [
    "def arithmetic():\n",
    "    a=1\n",
    "    b=2\n",
    "    print(\"add\",a+b,\"sub\",a-b,\"mul\",a*b,\"div\",a/b)\n",
    "    \n",
    "arithmetic()"
   ]
  },
  {
   "cell_type": "code",
   "execution_count": null,
   "metadata": {},
   "outputs": [],
   "source": []
  }
 ],
 "metadata": {
  "kernelspec": {
   "display_name": "Python 3",
   "language": "python",
   "name": "python3"
  },
  "language_info": {
   "codemirror_mode": {
    "name": "ipython",
    "version": 3
   },
   "file_extension": ".py",
   "mimetype": "text/x-python",
   "name": "python",
   "nbconvert_exporter": "python",
   "pygments_lexer": "ipython3",
   "version": "3.7.3"
  }
 },
 "nbformat": 4,
 "nbformat_minor": 2
}
