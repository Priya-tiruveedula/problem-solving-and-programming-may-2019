{
 "cells": [
  {
   "cell_type": "markdown",
   "metadata": {},
   "source": [
    "# Problem Solving and Programming\n",
    "\n",
    "## Name:T.N.NPriya\n",
    "\n",
    "\n",
    "\n",
    "### Date:09-05-2019\n",
    "\n",
    "#### Day Objectives\n",
    "* objective 1\n",
    "* objective 2"
   ]
  },
  {
   "cell_type": "markdown",
   "metadata": {},
   "source": [
    "# Problem 1:\n",
    "\n",
    "## Problem Statement: Procedure to generate multiplication tables. \n",
    "\n",
    "\n",
    " ### Test cases\n",
    " * MT(3, 5, 7) -> 3 X 5 = 15  3 X 6 = 18  3 X 7 = 21\n",
    " * MT(4, 5, 8) -> 3 X 5 = 15  3 X 6 = 18  3 X 7 = 21\n",
    " * MT(5, 6, 7) -> 3 X 5 = 15  3 X 6 = 18  3 X 7 = 21   "
   ]
  },
  {
   "cell_type": "code",
   "execution_count": 1,
   "metadata": {},
   "outputs": [
    {
     "name": "stdout",
     "output_type": "stream",
     "text": [
      "first table\n",
      "3 * 5 = 15\n",
      "3 * 6 = 18\n",
      "3 * 7 = 21\n",
      "second table\n",
      "4 * 5 = 20\n",
      "4 * 6 = 24\n",
      "4 * 7 = 28\n",
      "4 * 8 = 32\n",
      "third table\n",
      "5 * 6 = 30\n",
      "5 * 7 = 35\n"
     ]
    }
   ],
   "source": [
    "def MT(i,j,k):\n",
    "    for x in range(j,k+1):\n",
    "        print(i, \"*\",x,\"=\",i*x)\n",
    "        \n",
    "print(\"first table\")        \n",
    "MT(3,5,7)\n",
    "print(\"second table\")\n",
    "MT(4, 5, 8)\n",
    "print(\"third table\")\n",
    "MT(5, 6, 7)"
   ]
  },
  {
   "cell_type": "markdown",
   "metadata": {},
   "source": [
    " # Problem 2:\n",
    "\n",
    "## Problem Statement:  Procedure to print the list of factors of a given number.\n",
    "\n",
    " ### Test cases\n",
    " * FactorList(6)  ->  1 2 3 6\n",
    "\n",
    " * FactorList (9) ->   1 3 9\n",
    "\n",
    " * FactorList (19) ->  1  19\n"
   ]
  },
  {
   "cell_type": "code",
   "execution_count": 2,
   "metadata": {},
   "outputs": [
    {
     "name": "stdout",
     "output_type": "stream",
     "text": [
      "[1, 2, 3, 6]\n",
      "[1, 3, 9]\n",
      "[1, 19]\n"
     ]
    }
   ],
   "source": [
    "def FactorList(n):\n",
    "    a=[]\n",
    "    for i in range(1,n+1):\n",
    "        if (n%i==0):\n",
    "            a.append(i)\n",
    "    return a        \n",
    "        \n",
    "    \n",
    "        \n",
    "        \n",
    "print(FactorList(6))\n",
    "print(FactorList(9))\n",
    "print(FactorList(19))"
   ]
  },
  {
   "cell_type": "markdown",
   "metadata": {},
   "source": [
    "# Problem 3:\n",
    "\n",
    "# Factorial of a given number as a procedure.\n",
    "\n",
    "## Test cases:\n",
    "* Factorial(5) -> 120\n",
    "* Factorial (6) -> 720"
   ]
  },
  {
   "cell_type": "code",
   "execution_count": 3,
   "metadata": {},
   "outputs": [
    {
     "data": {
      "text/plain": [
       "120"
      ]
     },
     "execution_count": 3,
     "metadata": {},
     "output_type": "execute_result"
    }
   ],
   "source": [
    "def factoria(n):\n",
    "    if(n==1):\n",
    "        return n\n",
    "    else:\n",
    "        return n*factoria(n-1)\n",
    "\n",
    "factoria(5)\n",
    "   "
   ]
  },
  {
   "cell_type": "markdown",
   "metadata": {},
   "source": [
    "# Problem 3:\n",
    "\n",
    "## Problem Statement:Procedure to check if a given number is Prime and returns a Boolean value.\n",
    "\n",
    " ### Test cases\n",
    "* IsPrime(7) -> True\n",
    "\n",
    " * IsPrime(9) ->  False"
   ]
  },
  {
   "cell_type": "code",
   "execution_count": 4,
   "metadata": {},
   "outputs": [
    {
     "name": "stdout",
     "output_type": "stream",
     "text": [
      "True\n",
      "False\n",
      "True\n",
      "False\n"
     ]
    }
   ],
   "source": [
    "def IsPrime(prime):\n",
    "    count=0\n",
    "    for i in range(2,prime):\n",
    "        if(prime%i==0):\n",
    "            count=count+1\n",
    "    if(count>0):\n",
    "        return False\n",
    "    else:\n",
    "         return True\n",
    "    \n",
    "  \n",
    "        \n",
    "print(IsPrime(5))\n",
    "print(IsPrime(6))\n",
    "print(IsPrime(7))\n",
    "print(IsPrime(8))\n",
    "\n",
    "        \n",
    "    "
   ]
  },
  {
   "cell_type": "markdown",
   "metadata": {},
   "source": [
    "# Problem 4:\n",
    "\n",
    "## Problem Statement:Procedure to count the number of digits in a given number.\n",
    "\n",
    "### Test cases\n",
    "* CountDigits(123456) ->  6\n",
    "\n",
    "* CountDigits (0) ->  1\n"
   ]
  },
  {
   "cell_type": "code",
   "execution_count": 5,
   "metadata": {},
   "outputs": [
    {
     "name": "stdout",
     "output_type": "stream",
     "text": [
      "6\n",
      "1\n",
      "3\n"
     ]
    }
   ],
   "source": [
    "def CountDigits(n):\n",
    "    return len(str(n))\n",
    "    \n",
    "\n",
    "print(CountDigits(123456))\n",
    "print(CountDigits(0))\n",
    "print(CountDigits(456))\n",
    "    "
   ]
  },
  {
   "cell_type": "markdown",
   "metadata": {},
   "source": [
    "# Problem 5:\n",
    "\n",
    "## Problem Statement: Procedure to check if a given number is a Perfect Number. ( Perfect number is a number for which the sum of all it's divisors is equal to the number itself)\n",
    "\n",
    "### Test cases\n",
    "\n",
    "* IsPerfect(3) -> False\n",
    "* IsPerfect (6) -> True"
   ]
  },
  {
   "cell_type": "code",
   "execution_count": 6,
   "metadata": {},
   "outputs": [
    {
     "name": "stdout",
     "output_type": "stream",
     "text": [
      "True\n",
      "False\n",
      "False\n"
     ]
    }
   ],
   "source": [
    "def IsPerfect(n):\n",
    "    a=[]\n",
    "    for i in range(1,n):\n",
    "        if(n%i==0):\n",
    "            a.append(i)\n",
    "    if(sum(a)==n):\n",
    "        return True\n",
    "    else:\n",
    "        return False\n",
    "    \n",
    "print(IsPerfect(6))\n",
    "print(IsPerfect(3))\n",
    "print(IsPerfect(25))\n",
    "        \n",
    "        "
   ]
  },
  {
   "cell_type": "markdown",
   "metadata": {},
   "source": [
    "# Problem 6:\n",
    "\n",
    "## Problem Statement: Procedure to generate the first N perfect numbers. \n",
    "\n",
    "\n",
    "### Test cases\n",
    "\n",
    "* GeneratePerfect(2) ->  6   28\n",
    "\n",
    "* GeneratePerfect (4) ->  6   28   496    8128"
   ]
  },
  {
   "cell_type": "code",
   "execution_count": 7,
   "metadata": {},
   "outputs": [
    {
     "data": {
      "text/plain": [
       "[6, 28]"
      ]
     },
     "execution_count": 7,
     "metadata": {},
     "output_type": "execute_result"
    }
   ],
   "source": [
    "def GeneratePerfect(a):\n",
    "    x=1\n",
    "    li=[]\n",
    "    count=0\n",
    "    while(x>0 and count!=a):\n",
    "        if(IsPerfect(x)):\n",
    "            count=count+1\n",
    "            li.append(x)\n",
    "        x=x+1\n",
    "        \n",
    "    if(count==a):\n",
    "        return li\n",
    "GeneratePerfect(2)\n"
   ]
  }
 ],
 "metadata": {
  "kernelspec": {
   "display_name": "Python 3",
   "language": "python",
   "name": "python3"
  },
  "language_info": {
   "codemirror_mode": {
    "name": "ipython",
    "version": 3
   },
   "file_extension": ".py",
   "mimetype": "text/x-python",
   "name": "python",
   "nbconvert_exporter": "python",
   "pygments_lexer": "ipython3",
   "version": "3.7.3"
  }
 },
 "nbformat": 4,
 "nbformat_minor": 2
}
