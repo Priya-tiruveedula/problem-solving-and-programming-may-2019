{
 "cells": [
  {
   "cell_type": "markdown",
   "metadata": {},
   "source": [
    "# Problem Solving and Programming\n",
    "\n",
    "## Name:\n",
    "\n",
    "### Day 9\n",
    "\n",
    "#### Day Objectives\n",
    "\n",
    "* objective 1\n",
    "* objective 2"
   ]
  },
  {
   "cell_type": "markdown",
   "metadata": {},
   "source": [
    "# Problem 14:\n",
    "\n",
    "## Problem Statement:Procedure to calculate the factorial of a given number.\n",
    "\n",
    "#### Test cases\n",
    "\n",
    "* factorial(5) → 120\n",
    "* factorial(6) → 720\n",
    "* factorial(7) → 5040"
   ]
  },
  {
   "cell_type": "code",
   "execution_count": 95,
   "metadata": {},
   "outputs": [
    {
     "name": "stdout",
     "output_type": "stream",
     "text": [
      "5040\n"
     ]
    }
   ],
   "source": [
    "import math\n",
    "def factorialnumber(x):\n",
    "    print(math.factorial(x))\n",
    "    \n",
    "    \n",
    " \n",
    "factorialnumber(7)"
   ]
  }
 ],
 "metadata": {
  "kernelspec": {
   "display_name": "Python 3",
   "language": "python",
   "name": "python3"
  },
  "language_info": {
   "codemirror_mode": {
    "name": "ipython",
    "version": 3
   },
   "file_extension": ".py",
   "mimetype": "text/x-python",
   "name": "python",
   "nbconvert_exporter": "python",
   "pygments_lexer": "ipython3",
   "version": "3.7.3"
  }
 },
 "nbformat": 4,
 "nbformat_minor": 2
}
