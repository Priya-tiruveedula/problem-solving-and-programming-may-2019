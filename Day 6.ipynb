{
 "cells": [
  {
   "cell_type": "markdown",
   "metadata": {},
   "source": [
    "# Problem Solving and Programming\n",
    "\n",
    "## Name:T.N.NPriya\n",
    "\n",
    "\n",
    "\n",
    "#### Day Objectives\n",
    "* objective 1\n",
    "* objective 2"
   ]
  },
  {
   "cell_type": "markdown",
   "metadata": {},
   "source": [
    "# Problem 1:\n",
    "\n",
    "## Problem Statement: Design a procedure calculate the maximum, minimum and average of N numbers.\n",
    "\n",
    "### constraint:\n",
    "\n",
    "#### Test cases\n",
    "* data( a[1,2,3,4,5] ) -> Max = 5, Min = 1, Avg = 3\n",
    "* data( a[5,6,7,8,9] ) -> Max = 9, Min = 5, Avg = 7\n",
    "* data( a[9,6,5,4,3,2] ) -> Max= 9 , Min= 2 , Avg= 4.833333333333333"
   ]
  },
  {
   "cell_type": "code",
   "execution_count": 1,
   "metadata": {},
   "outputs": [
    {
     "name": "stdout",
     "output_type": "stream",
     "text": [
      "Max= 9 , Min= 2 , Avg= 4.833333333333333\n"
     ]
    }
   ],
   "source": [
    "import statistics\n",
    "def data(a):\n",
    "    print(\"Max=\",max(a),\",\",\"Min=\",min(a),\",\",\"Avg=\",statistics.mean(a) )\n",
    "    \n",
    "    \n",
    "data([9,6,5,4,3,2])\n",
    "    "
   ]
  },
  {
   "cell_type": "markdown",
   "metadata": {},
   "source": [
    "# Problem 2:\n",
    "\n",
    "## Problem Statement: Design a procedure to perform Linear search on list of N unsorted unique numbers. It take an array and the key element to be searched and returns the index of the element of key element if found. Else returns -1.\n",
    "\n",
    "### constraint:\n",
    "\n",
    "#### Test cases\n",
    "* LinearSearch( a[5,4,3,2,1], 4) -> 2\n",
    "* LinearSearch( a[90, 123, 324, 21, 56], 22) -> -1"
   ]
  },
  {
   "cell_type": "code",
   "execution_count": 2,
   "metadata": {},
   "outputs": [
    {
     "name": "stdout",
     "output_type": "stream",
     "text": [
      "4\n",
      "1\n",
      "3\n"
     ]
    }
   ],
   "source": [
    "def Linearsearch(a,key):\n",
    "    count=1\n",
    "    \n",
    "    for i in range(0,len(a)):\n",
    "        if(a[i]==key):\n",
    "            print(i)\n",
    "            count=count+1\n",
    "            \n",
    "    if(count==1):\n",
    "        print(-1)\n",
    "    \n",
    "       \n",
    "        \n",
    "Linearsearch([5,4,3,2,1],1)\n",
    "Linearsearch([5,4,3,2,1],4)\n",
    "Linearsearch([5,4,2,3,6],3)\n",
    "        "
   ]
  },
  {
   "cell_type": "markdown",
   "metadata": {},
   "source": [
    "# Problem 3:\n",
    "\n",
    "## Problem Statement: Design a procedure to determine if a given string is a Palindrome\n",
    "\n",
    "### Test cases\n",
    "\n",
    "* Palindrome(\"racecar\") -> True\n",
    "* Palindrome(\"raptor\") -> False"
   ]
  },
  {
   "cell_type": "code",
   "execution_count": 3,
   "metadata": {},
   "outputs": [
    {
     "name": "stdout",
     "output_type": "stream",
     "text": [
      "True\n",
      "True\n",
      "False\n"
     ]
    }
   ],
   "source": [
    "def Palindrome(s):\n",
    "    if(s==s[::-1]):\n",
    "        return True\n",
    "    else:\n",
    "        return False\n",
    "    \n",
    "print(Palindrome(\"aba\"))\n",
    "print(Palindrome(\"racecar\"))\n",
    "print(Palindrome(\"raptor\"))"
   ]
  },
  {
   "cell_type": "markdown",
   "metadata": {},
   "source": [
    "# Problem 4:\n",
    "\n",
    "## Problem Statement: Design a procedure to calculate the squareroot of a number \"without using the math function sqrt\".\n",
    "\n",
    "### Test cases\n",
    "* Squareroot(36) -> 6\n",
    "* Squareroot(362) -> 19.026297590440446\n",
    "* Squareroot(236) -> 15.362291495737216"
   ]
  },
  {
   "cell_type": "code",
   "execution_count": 4,
   "metadata": {},
   "outputs": [
    {
     "name": "stdout",
     "output_type": "stream",
     "text": [
      "15.362291495737216\n"
     ]
    }
   ],
   "source": [
    "def sqrt(a):\n",
    "    \n",
    "    print((a**(1/2)))\n",
    "          \n",
    "          \n",
    "\n",
    "sqrt(236)"
   ]
  },
  {
   "cell_type": "markdown",
   "metadata": {},
   "source": [
    "# Problem 5:\n",
    "\n",
    "## Problem Statement:Design a procedure to determine the frequency count of numbers in a given list\n",
    "\n",
    "### Test cases\n",
    "* Frequency( a[1,3,2,1] ) -> 1 : 2, 2 : 1, 3 : 1"
   ]
  },
  {
   "cell_type": "code",
   "execution_count": 5,
   "metadata": {},
   "outputs": [
    {
     "name": "stdout",
     "output_type": "stream",
     "text": [
      "{1: 3, 2: 1, 3: 1}\n"
     ]
    }
   ],
   "source": [
    "from collections import Counter\n",
    "def Frequency(a):\n",
    "    return dict(Counter(a))   \n",
    "print(Frequency([1,1,1,2,3]))"
   ]
  },
  {
   "cell_type": "markdown",
   "metadata": {},
   "source": [
    " # Problem 6:\n",
    "\n",
    "## Problem Statement: Procedure to generate multiplication tables. \n",
    "\n",
    "\n",
    " ### Test cases\n",
    " * MT(3, 5, 7) -> 3 X 5 = 15  3 X 6 = 18  3 X 7 = 21\n",
    " * MT(4, 5, 8) -> 3 X 5 = 15  3 X 6 = 18  3 X 7 = 21\n",
    " * MT(5, 6, 7) -> 3 X 5 = 15  3 X 6 = 18  3 X 7 = 21   "
   ]
  },
  {
   "cell_type": "code",
   "execution_count": 6,
   "metadata": {},
   "outputs": [
    {
     "name": "stdout",
     "output_type": "stream",
     "text": [
      "first table\n",
      "3 * 5 = 15\n",
      "3 * 6 = 18\n",
      "3 * 7 = 21\n",
      "second table\n",
      "4 * 5 = 20\n",
      "4 * 6 = 24\n",
      "4 * 7 = 28\n",
      "4 * 8 = 32\n",
      "third table\n",
      "5 * 6 = 30\n",
      "5 * 7 = 35\n"
     ]
    }
   ],
   "source": [
    "def MT(i,j,k):\n",
    "    for x in range(j,k+1):\n",
    "        print(i, \"*\",x,\"=\",i*x)\n",
    "        \n",
    "print(\"first table\")        \n",
    "MT(3,5,7)\n",
    "print(\"second table\")\n",
    "MT(4, 5, 8)\n",
    "print(\"third table\")\n",
    "MT(5, 6, 7)\n"
   ]
  }
 ],
 "metadata": {
  "kernelspec": {
   "display_name": "Python 3",
   "language": "python",
   "name": "python3"
  },
  "language_info": {
   "codemirror_mode": {
    "name": "ipython",
    "version": 3
   },
   "file_extension": ".py",
   "mimetype": "text/x-python",
   "name": "python",
   "nbconvert_exporter": "python",
   "pygments_lexer": "ipython3",
   "version": "3.7.3"
  }
 },
 "nbformat": 4,
 "nbformat_minor": 2
}
