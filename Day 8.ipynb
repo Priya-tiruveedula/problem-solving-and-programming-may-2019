{
 "cells": [
  {
   "cell_type": "markdown",
   "metadata": {},
   "source": [
    "# Problem 1:\n",
    "\n",
    "## Problem Statement: Given 2 int values, return True if one is negative and one is positive. Except if the parameter \"negative\" is True, then return True only if both are negative.\n",
    "\n",
    "\n",
    "\n",
    "#### Test cases\n",
    "* pos_neg(1, -1, False) → True\n",
    "* pos_neg(-1, 1, False) → True\n",
    "* pos_neg(-4, -5, True) → True\n",
    "* pos_neg(-4, -5, False) → False"
   ]
  },
  {
   "cell_type": "code",
   "execution_count": 1,
   "metadata": {},
   "outputs": [
    {
     "data": {
      "text/plain": [
       "False"
      ]
     },
     "execution_count": 1,
     "metadata": {},
     "output_type": "execute_result"
    }
   ],
   "source": [
    "def pos_neg(x,y,negative):\n",
    "    if((x<0 and y>=0) or (x>=0 and y<0)):\n",
    "        \n",
    "        return True\n",
    "    \n",
    "    if(x<0 and y<0):\n",
    "        if(negative==True):\n",
    "          \n",
    "            return True\n",
    "        else:\n",
    "            return False\n",
    "        \n",
    "pos_neg(-4,-5,False)"
   ]
  },
  {
   "cell_type": "markdown",
   "metadata": {},
   "source": [
    "# Problem 2:\n",
    "\n",
    "## Problem Statement:Given an int n, return True if it is within 10 of 100 or 200. Note: abs(num) computes the absolute value of a number.\n",
    "\n",
    "\n",
    "\n",
    "#### Test cases\n",
    "* near_hundred(93) → True\n",
    "* near_hundred(90) → True\n",
    "* near_hundred(89) → False"
   ]
  },
  {
   "cell_type": "code",
   "execution_count": 2,
   "metadata": {},
   "outputs": [
    {
     "data": {
      "text/plain": [
       "False"
      ]
     },
     "execution_count": 2,
     "metadata": {},
     "output_type": "execute_result"
    }
   ],
   "source": [
    "def near_hundred(x):\n",
    "    if(((100-abs(x))<=10) or ((200-abs(x))<=10)):\n",
    "         return True\n",
    "    else:\n",
    "            return False\n",
    "   \n",
    "\n",
    "    \n",
    "    \n",
    "near_hundred(89)"
   ]
  },
  {
   "cell_type": "markdown",
   "metadata": {},
   "source": [
    "# Problem 3:\n",
    "\n",
    "## Problem Statement:Create a Random Number Generator as a Procedure which takes the Range(lb, ub) and returns a Random number in the given range.\n",
    "\n",
    "#### Test cases\n",
    "* random(1,10) → 2\n",
    "* random(1,10) → 4\n",
    "* random(1,10) → 6"
   ]
  },
  {
   "cell_type": "code",
   "execution_count": 3,
   "metadata": {},
   "outputs": [
    {
     "name": "stdout",
     "output_type": "stream",
     "text": [
      "9\n"
     ]
    }
   ],
   "source": [
    "import random\n",
    "def randomrange(x ,y):\n",
    "    print(random.randrange(x,y))\n",
    "    \n",
    "\n",
    "    \n",
    "    \n",
    "randomrange(1,10)"
   ]
  },
  {
   "cell_type": "markdown",
   "metadata": {},
   "source": [
    "# Problem 4:\n",
    "\n",
    "## Problem Statement:Procedure to print N natural numbers.\n",
    "### Constarint\n",
    "\n",
    "#### Test cases\n",
    "* naturalnumber(5) → 1,2,3,4,5\n",
    "* naturalnumber(6) → 1,2,3,4,5,6\n",
    "* naturalnumber(7) → 1,2,3,4,5,6,7"
   ]
  },
  {
   "cell_type": "code",
   "execution_count": 4,
   "metadata": {},
   "outputs": [
    {
     "name": "stdout",
     "output_type": "stream",
     "text": [
      "1\n",
      "2\n",
      "3\n",
      "4\n",
      "5\n",
      "6\n",
      "7\n"
     ]
    }
   ],
   "source": [
    "def naturalnumber(x):\n",
    "    for i in range(1,x+1):\n",
    "        print(i)\n",
    "naturalnumber(7)"
   ]
  },
  {
   "cell_type": "markdown",
   "metadata": {},
   "source": [
    "# Problem 5:\n",
    "\n",
    "## Problem Statement: Design a procedure to perform Linear search on list of N unsorted unique numbers. It take an array and the key element to be searched and returns the index of the element of key element if found. Else returns -1.\n",
    "\n",
    "### constraint:\n",
    "\n",
    "#### Test cases\n",
    "* LinearSearch( a[5,4,3,2,1], 4) -> 2\n",
    "* LinearSearch( a[90, 123, 324, 21, 56], 22) -> -1"
   ]
  },
  {
   "cell_type": "code",
   "execution_count": 5,
   "metadata": {},
   "outputs": [
    {
     "name": "stdout",
     "output_type": "stream",
     "text": [
      "4\n",
      "1\n",
      "3\n"
     ]
    }
   ],
   "source": [
    "def Linearsearch(a,key):\n",
    "    count=1\n",
    "    \n",
    "    for i in range(0,len(a)):\n",
    "        if(a[i]==key):\n",
    "            print(i)\n",
    "            count=count+1\n",
    "            \n",
    "    if(count==1):\n",
    "        print(-1)\n",
    "    \n",
    "       \n",
    "        \n",
    "Linearsearch([5,4,3,2,1],1)\n",
    "Linearsearch([5,4,3,2,1],4)\n",
    "Linearsearch([5,4,2,3,6],3)\n",
    "        "
   ]
  },
  {
   "cell_type": "markdown",
   "metadata": {},
   "source": [
    "# Problem 6:\n",
    "## Problem Statement:Procedure to generate multiplication tables.\n",
    "## Test case:\n",
    "* MT(3,5,7)->3 * 5 = 15\n",
    "3 * 6 = 18\n",
    "3 * 7 = 21\n",
    "* MT(4, 5, 8)->4 * 5 = 20\n",
    "4 * 6 = 24\n",
    "4 * 7 = 28\n",
    "4 * 8 = 32\n",
    "\n"
   ]
  },
  {
   "cell_type": "code",
   "execution_count": 6,
   "metadata": {},
   "outputs": [
    {
     "name": "stdout",
     "output_type": "stream",
     "text": [
      "first table\n",
      "3 * 5 = 15\n",
      "3 * 6 = 18\n",
      "3 * 7 = 21\n",
      "second table\n",
      "4 * 5 = 20\n",
      "4 * 6 = 24\n",
      "4 * 7 = 28\n",
      "4 * 8 = 32\n",
      "third table\n",
      "5 * 6 = 30\n",
      "5 * 7 = 35\n"
     ]
    }
   ],
   "source": [
    "def MT(i,j,k):\n",
    "    for x in range(j,k+1):\n",
    "        print(i, \"*\",x,\"=\",i*x)\n",
    "        \n",
    "print(\"first table\")        \n",
    "MT(3,5,7)\n",
    "print(\"second table\")\n",
    "MT(4, 5, 8)\n",
    "print(\"third table\")\n",
    "MT(5, 6, 7)\n"
   ]
  },
  {
   "cell_type": "markdown",
   "metadata": {},
   "source": [
    " # Problem 2:\n",
    "\n",
    "## Problem Statement:  Procedure to print the list of factors of a given number.\n",
    "\n",
    "### Test cases\n",
    " * FactorList(6)  ->  1 2 3 6\n",
    "\n",
    " * FactorList (9) ->   1 3 9\n",
    "\n",
    " * FactorList (19) ->  1  19\n"
   ]
  },
  {
   "cell_type": "code",
   "execution_count": 7,
   "metadata": {},
   "outputs": [
    {
     "name": "stdout",
     "output_type": "stream",
     "text": [
      "[1, 2, 3, 6]\n",
      "[1, 3, 9]\n",
      "[1, 19]\n"
     ]
    }
   ],
   "source": [
    "def FactorList(n):\n",
    "    a=[]\n",
    "    for i in range(1,n+1):\n",
    "        if (n%i==0):\n",
    "            a.append(i)\n",
    "    return a        \n",
    "        \n",
    "    \n",
    "        \n",
    "        \n",
    "print(FactorList(6))\n",
    "print(FactorList(9))\n",
    "print(FactorList(19))\n"
   ]
  },
  {
   "cell_type": "markdown",
   "metadata": {},
   "source": [
    "# Problem 3:\n",
    "\n",
    "## Problem Statement: Design a procedure to determine if a given string is a Palindrome\n",
    "\n",
    "### Test cases\n",
    "\n",
    "* Palindrome(\"racecar\") -> True\n",
    "* Palindrome(\"raptor\") -> False"
   ]
  },
  {
   "cell_type": "code",
   "execution_count": 8,
   "metadata": {},
   "outputs": [
    {
     "name": "stdout",
     "output_type": "stream",
     "text": [
      "True\n",
      "True\n",
      "False\n"
     ]
    }
   ],
   "source": [
    "def Palindrome(s):\n",
    "    if(s==s[::-1]):\n",
    "        return True\n",
    "    else:\n",
    "        return False\n",
    "    \n",
    "print(Palindrome(\"aba\"))\n",
    "print(Palindrome(\"racecar\"))\n",
    "print(Palindrome(\"raptor\"))"
   ]
  }
 ],
 "metadata": {
  "kernelspec": {
   "display_name": "Python 3",
   "language": "python",
   "name": "python3"
  },
  "language_info": {
   "codemirror_mode": {
    "name": "ipython",
    "version": 3
   },
   "file_extension": ".py",
   "mimetype": "text/x-python",
   "name": "python",
   "nbconvert_exporter": "python",
   "pygments_lexer": "ipython3",
   "version": "3.7.3"
  }
 },
 "nbformat": 4,
 "nbformat_minor": 2
}
